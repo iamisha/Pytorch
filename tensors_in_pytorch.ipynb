{
  "nbformat": 4,
  "nbformat_minor": 0,
  "metadata": {
    "colab": {
      "provenance": [],
      "gpuType": "T4",
      "include_colab_link": true
    },
    "kernelspec": {
      "name": "python3",
      "display_name": "Python 3"
    },
    "language_info": {
      "name": "python"
    },
    "accelerator": "GPU"
  },
  "cells": [
    {
      "cell_type": "markdown",
      "metadata": {
        "id": "view-in-github",
        "colab_type": "text"
      },
      "source": [
        "<a href=\"https://colab.research.google.com/github/iamisha/Pytorch/blob/day4/tensors_in_pytorch.ipynb\" target=\"_parent\"><img src=\"https://colab.research.google.com/assets/colab-badge.svg\" alt=\"Open In Colab\"/></a>"
      ]
    },
    {
      "cell_type": "markdown",
      "source": [
        "### D-4\n",
        "\n"
      ],
      "metadata": {
        "id": "9Q5QqlWFWyVt"
      }
    },
    {
      "cell_type": "code",
      "execution_count": null,
      "metadata": {
        "colab": {
          "base_uri": "https://localhost:8080/"
        },
        "id": "DDivnkQ4QSEi",
        "outputId": "00c2f387-6129-4089-c2d1-a690e661c444"
      },
      "outputs": [
        {
          "output_type": "stream",
          "name": "stdout",
          "text": [
            "2.6.0+cu124\n"
          ]
        }
      ],
      "source": [
        "import torch\n",
        "print(torch.__version__)"
      ]
    },
    {
      "cell_type": "code",
      "source": [
        "if torch.cuda.is_available():\n",
        "  print('GPU is available')\n",
        "  print(f'You are using: ',torch.cuda.get_device_name(0))\n",
        "else:\n",
        "  print('GPU is not available')"
      ],
      "metadata": {
        "colab": {
          "base_uri": "https://localhost:8080/"
        },
        "id": "ySiSJpA9QX5S",
        "outputId": "2a012faa-68d3-4602-e00b-93faceb41203"
      },
      "execution_count": null,
      "outputs": [
        {
          "output_type": "stream",
          "name": "stdout",
          "text": [
            "GPU is available\n",
            "You are using:  Tesla T4\n"
          ]
        }
      ]
    },
    {
      "cell_type": "markdown",
      "source": [
        "## Creating Tenosr"
      ],
      "metadata": {
        "id": "2h9_lTDqSK-e"
      }
    },
    {
      "cell_type": "code",
      "source": [
        "# Using empty\n",
        "a = torch.empty(2,3)\n",
        "torch.empty(3,2)"
      ],
      "metadata": {
        "colab": {
          "base_uri": "https://localhost:8080/"
        },
        "id": "Nylh63KvQ2hx",
        "outputId": "080d3a41-531f-4f1e-a7da-615ab917265a"
      },
      "execution_count": null,
      "outputs": [
        {
          "output_type": "execute_result",
          "data": {
            "text/plain": [
              "tensor([[1.1479e-41, 0.0000e+00],\n",
              "        [5.8294e-43, 0.0000e+00],\n",
              "        [0.0000e+00, 0.0000e+00]])"
            ]
          },
          "metadata": {},
          "execution_count": 3
        }
      ]
    },
    {
      "cell_type": "code",
      "source": [
        "# check type\n",
        "type(a)"
      ],
      "metadata": {
        "colab": {
          "base_uri": "https://localhost:8080/"
        },
        "id": "jk2NH_7_SRTb",
        "outputId": "5469653c-5243-4443-f162-2546445a68c4"
      },
      "execution_count": null,
      "outputs": [
        {
          "output_type": "execute_result",
          "data": {
            "text/plain": [
              "torch.Tensor"
            ]
          },
          "metadata": {},
          "execution_count": 4
        }
      ]
    },
    {
      "cell_type": "code",
      "source": [
        "# Using zeros\n",
        "torch.zeros(2,3)"
      ],
      "metadata": {
        "colab": {
          "base_uri": "https://localhost:8080/"
        },
        "id": "33Iox-uFSXn3",
        "outputId": "c6f45088-4826-41d8-a4b4-2c89a5eab06c"
      },
      "execution_count": null,
      "outputs": [
        {
          "output_type": "execute_result",
          "data": {
            "text/plain": [
              "tensor([[0., 0., 0.],\n",
              "        [0., 0., 0.]])"
            ]
          },
          "metadata": {},
          "execution_count": 5
        }
      ]
    },
    {
      "cell_type": "code",
      "source": [
        "# Using ones\n",
        "torch.ones(2,3)"
      ],
      "metadata": {
        "colab": {
          "base_uri": "https://localhost:8080/"
        },
        "id": "vCy2jktPSs8m",
        "outputId": "3e70a4d4-4ec3-46ae-ab29-2dbc1e69c9e0"
      },
      "execution_count": null,
      "outputs": [
        {
          "output_type": "execute_result",
          "data": {
            "text/plain": [
              "tensor([[1., 1., 1.],\n",
              "        [1., 1., 1.]])"
            ]
          },
          "metadata": {},
          "execution_count": 6
        }
      ]
    },
    {
      "cell_type": "code",
      "source": [
        "# Using rand\n",
        "torch.rand(2,3)"
      ],
      "metadata": {
        "colab": {
          "base_uri": "https://localhost:8080/"
        },
        "id": "cNekHNUzSwA1",
        "outputId": "2b0bd6a6-d701-48bf-87a0-406c8b940abe"
      },
      "execution_count": null,
      "outputs": [
        {
          "output_type": "execute_result",
          "data": {
            "text/plain": [
              "tensor([[0.5650, 0.2906, 0.2343],\n",
              "        [0.0819, 0.0406, 0.0683]])"
            ]
          },
          "metadata": {},
          "execution_count": 7
        }
      ]
    },
    {
      "cell_type": "code",
      "source": [
        "# Use of seed\n",
        "torch.rand(2,3) # it gets random values each time you run"
      ],
      "metadata": {
        "colab": {
          "base_uri": "https://localhost:8080/"
        },
        "id": "_fYypKfySyCS",
        "outputId": "c81038fc-7a8f-4844-b9d5-d764afc53f21"
      },
      "execution_count": null,
      "outputs": [
        {
          "output_type": "execute_result",
          "data": {
            "text/plain": [
              "tensor([[0.7393, 0.9342, 0.6530],\n",
              "        [0.3782, 0.8819, 0.6616]])"
            ]
          },
          "metadata": {},
          "execution_count": 8
        }
      ]
    },
    {
      "cell_type": "code",
      "source": [
        "# manual seed gives same values of rand each time you run the cell\n",
        "torch.manual_seed(100)\n",
        "torch.rand(2,3)"
      ],
      "metadata": {
        "colab": {
          "base_uri": "https://localhost:8080/"
        },
        "id": "uILWRE-aTVYS",
        "outputId": "6a45bcab-062b-4f12-cec9-bac2f6df6d6c"
      },
      "execution_count": null,
      "outputs": [
        {
          "output_type": "execute_result",
          "data": {
            "text/plain": [
              "tensor([[0.1117, 0.8158, 0.2626],\n",
              "        [0.4839, 0.6765, 0.7539]])"
            ]
          },
          "metadata": {},
          "execution_count": 9
        }
      ]
    },
    {
      "cell_type": "code",
      "source": [
        "torch.manual_seed(100)\n",
        "torch.rand(2,3)"
      ],
      "metadata": {
        "colab": {
          "base_uri": "https://localhost:8080/"
        },
        "id": "-5kfHg92Td47",
        "outputId": "8714c547-1cbd-4a41-dbd7-fd06a0886731"
      },
      "execution_count": null,
      "outputs": [
        {
          "output_type": "execute_result",
          "data": {
            "text/plain": [
              "tensor([[0.1117, 0.8158, 0.2626],\n",
              "        [0.4839, 0.6765, 0.7539]])"
            ]
          },
          "metadata": {},
          "execution_count": 10
        }
      ]
    },
    {
      "cell_type": "code",
      "source": [
        "# Using tensor\n",
        "torch.tensor([(1,2),[3,4]])"
      ],
      "metadata": {
        "colab": {
          "base_uri": "https://localhost:8080/"
        },
        "id": "OQw6h7CoTgYl",
        "outputId": "bc261148-43b8-48a2-cf14-6ed8d75bae1a"
      },
      "execution_count": null,
      "outputs": [
        {
          "output_type": "execute_result",
          "data": {
            "text/plain": [
              "tensor([[1, 2],\n",
              "        [3, 4]])"
            ]
          },
          "metadata": {},
          "execution_count": 11
        }
      ]
    },
    {
      "cell_type": "code",
      "source": [
        "# Other ways\n",
        "\n",
        "print(f'using arange: ', torch.arange(0,10,2))\n",
        "\n",
        "print(f'using linspace: ', torch.linspace(0,10,5))\n",
        "\n",
        "print(f'Using eye: ', torch.eye(5))\n",
        "\n",
        "\n",
        "print(f'Using full: ', torch.full((3,2),3))\n"
      ],
      "metadata": {
        "colab": {
          "base_uri": "https://localhost:8080/"
        },
        "id": "ND7zSHRhT4wO",
        "outputId": "7fafedf3-8502-456c-b8d0-b650da7ef4c8"
      },
      "execution_count": null,
      "outputs": [
        {
          "output_type": "stream",
          "name": "stdout",
          "text": [
            "using arange:  tensor([0, 2, 4, 6, 8])\n",
            "using linspace:  tensor([ 0.0000,  2.5000,  5.0000,  7.5000, 10.0000])\n",
            "Using eye:  tensor([[1., 0., 0., 0., 0.],\n",
            "        [0., 1., 0., 0., 0.],\n",
            "        [0., 0., 1., 0., 0.],\n",
            "        [0., 0., 0., 1., 0.],\n",
            "        [0., 0., 0., 0., 1.]])\n",
            "Using full:  tensor([[3, 3],\n",
            "        [3, 3],\n",
            "        [3, 3]])\n"
          ]
        }
      ]
    },
    {
      "cell_type": "markdown",
      "source": [
        "# Tensor Shapes"
      ],
      "metadata": {
        "id": "_wRamLveWKmg"
      }
    },
    {
      "cell_type": "code",
      "source": [
        "x = torch.tensor([[1,2,3],[4,5,6]])"
      ],
      "metadata": {
        "id": "BAcdkG7iUrhQ"
      },
      "execution_count": null,
      "outputs": []
    },
    {
      "cell_type": "code",
      "source": [
        "x.shape"
      ],
      "metadata": {
        "colab": {
          "base_uri": "https://localhost:8080/"
        },
        "id": "stIC6vcYrSm4",
        "outputId": "0180280e-af0a-4dc6-9735-135f8805f520"
      },
      "execution_count": null,
      "outputs": [
        {
          "output_type": "execute_result",
          "data": {
            "text/plain": [
              "torch.Size([2, 3])"
            ]
          },
          "metadata": {},
          "execution_count": 14
        }
      ]
    },
    {
      "cell_type": "code",
      "source": [
        "# create the tensors of same size\n",
        "torch.empty_like(x)\n",
        "\n",
        "torch.zeros_like(x)"
      ],
      "metadata": {
        "colab": {
          "base_uri": "https://localhost:8080/"
        },
        "id": "Q5RFnCNfrTyZ",
        "outputId": "082d16bc-5de1-498c-c929-bbb4a3d2d701"
      },
      "execution_count": null,
      "outputs": [
        {
          "output_type": "execute_result",
          "data": {
            "text/plain": [
              "tensor([[0, 0, 0],\n",
              "        [0, 0, 0]])"
            ]
          },
          "metadata": {},
          "execution_count": 15
        }
      ]
    },
    {
      "cell_type": "code",
      "source": [
        "torch.rand_like(x)"
      ],
      "metadata": {
        "colab": {
          "base_uri": "https://localhost:8080/",
          "height": 141
        },
        "id": "Z9SDAgQqsDOg",
        "outputId": "59b46379-b84c-40b6-db1a-ae7cf4d2212f"
      },
      "execution_count": null,
      "outputs": [
        {
          "output_type": "error",
          "ename": "RuntimeError",
          "evalue": "\"check_uniform_bounds\" not implemented for 'Long'",
          "traceback": [
            "\u001b[0;31m---------------------------------------------------------------------------\u001b[0m",
            "\u001b[0;31mRuntimeError\u001b[0m                              Traceback (most recent call last)",
            "\u001b[0;32m<ipython-input-16-8a266f1565c3>\u001b[0m in \u001b[0;36m<cell line: 0>\u001b[0;34m()\u001b[0m\n\u001b[0;32m----> 1\u001b[0;31m \u001b[0mtorch\u001b[0m\u001b[0;34m.\u001b[0m\u001b[0mrand_like\u001b[0m\u001b[0;34m(\u001b[0m\u001b[0mx\u001b[0m\u001b[0;34m)\u001b[0m\u001b[0;34m\u001b[0m\u001b[0;34m\u001b[0m\u001b[0m\n\u001b[0m",
            "\u001b[0;31mRuntimeError\u001b[0m: \"check_uniform_bounds\" not implemented for 'Long'"
          ]
        }
      ]
    },
    {
      "cell_type": "code",
      "source": [
        "torch.rand_like(x, dtype=torch.float32)"
      ],
      "metadata": {
        "colab": {
          "base_uri": "https://localhost:8080/"
        },
        "id": "aXI48dE4xNWN",
        "outputId": "f3d0604c-4e86-42f8-b9f6-7365743e5c26"
      },
      "execution_count": null,
      "outputs": [
        {
          "output_type": "execute_result",
          "data": {
            "text/plain": [
              "tensor([[0.2627, 0.0428, 0.2080],\n",
              "        [0.1180, 0.1217, 0.7356]])"
            ]
          },
          "metadata": {},
          "execution_count": 17
        }
      ]
    },
    {
      "cell_type": "markdown",
      "source": [
        "# Tensor Data Types"
      ],
      "metadata": {
        "id": "Y3RKM1kWuqKH"
      }
    },
    {
      "cell_type": "code",
      "source": [
        "# find data type\n",
        "x.dtype"
      ],
      "metadata": {
        "colab": {
          "base_uri": "https://localhost:8080/"
        },
        "id": "KovM1iRuupLz",
        "outputId": "6ed8901d-8730-4294-e6e6-a522a6416726"
      },
      "execution_count": null,
      "outputs": [
        {
          "output_type": "execute_result",
          "data": {
            "text/plain": [
              "torch.int64"
            ]
          },
          "metadata": {},
          "execution_count": 18
        }
      ]
    },
    {
      "cell_type": "code",
      "source": [
        "# assign data type\n",
        "torch.tensor([1.0,2.0,3.0],  dtype=torch.int32)"
      ],
      "metadata": {
        "colab": {
          "base_uri": "https://localhost:8080/"
        },
        "id": "i3EbBHSlu1P7",
        "outputId": "42dce805-1413-443b-d67e-56de465894cf"
      },
      "execution_count": null,
      "outputs": [
        {
          "output_type": "execute_result",
          "data": {
            "text/plain": [
              "tensor([1, 2, 3], dtype=torch.int32)"
            ]
          },
          "metadata": {},
          "execution_count": 19
        }
      ]
    },
    {
      "cell_type": "code",
      "source": [
        "torch.tensor([1,2,3],  dtype=torch.float64)"
      ],
      "metadata": {
        "colab": {
          "base_uri": "https://localhost:8080/"
        },
        "id": "4QGy3wGPvRVN",
        "outputId": "0540bb73-48db-4eae-9c33-1cd7122e0278"
      },
      "execution_count": null,
      "outputs": [
        {
          "output_type": "execute_result",
          "data": {
            "text/plain": [
              "tensor([1., 2., 3.], dtype=torch.float64)"
            ]
          },
          "metadata": {},
          "execution_count": 20
        }
      ]
    },
    {
      "cell_type": "code",
      "source": [
        "# using to() method\n",
        "x.to(torch.float32)"
      ],
      "metadata": {
        "colab": {
          "base_uri": "https://localhost:8080/"
        },
        "id": "wsjuThEjwbOw",
        "outputId": "5ee2ca16-f005-45a6-85c1-c3140f2ecdf3"
      },
      "execution_count": null,
      "outputs": [
        {
          "output_type": "execute_result",
          "data": {
            "text/plain": [
              "tensor([[1., 2., 3.],\n",
              "        [4., 5., 6.]])"
            ]
          },
          "metadata": {},
          "execution_count": 21
        }
      ]
    },
    {
      "cell_type": "markdown",
      "source": [
        "| **Data Type**               | **Dtype**           | **Description**                                                                 |\n",
        "|----------------------------|---------------------|---------------------------------------------------------------------------------|\n",
        "| 32-bit Floating Point       | `torch.float32`     | Standard floating-point type used for most deep learning tasks.                |\n",
        "| 64-bit Floating Point       | `torch.float64`     | Double-precision floating point. Higher precision, more memory.                |\n",
        "| 16-bit Floating Point       | `torch.float16`     | Half-precision float. Reduces memory/computation in mixed-precision training.  |\n",
        "| BFloat16                    | `torch.bfloat16`    | Reduced precision float for mixed-precision, common on TPUs.                   |\n",
        "| 8-bit Floating Point        | `torch.float8`      | Ultra-low-precision float. Experimental, for extreme memory limits.            |\n",
        "| 8-bit Integer               | `torch.int8`        | Signed 8-bit integer. Used in quantized inference models.                      |\n",
        "| 16-bit Integer              | `torch.int16`       | Signed 16-bit integer. Intermediate numerical precision.                       |\n",
        "| 32-bit Integer              | `torch.int32`       | Standard integer for indexing/general numerical tasks.                         |\n",
        "| 64-bit Integer              | `torch.int64`       | Long integer. Suitable for large numbers/indices.                              |\n",
        "| 8-bit Unsigned Integer      | `torch.uint8`       | Unsigned 8-bit. Common for image pixel values (0–255).                         |\n",
        "| Boolean                     | `torch.bool`        | Boolean type (`True`/`False`). Used in masking and logical ops.                |\n",
        "| Complex 64                  | `torch.complex64`   | Complex type with 32-bit real & imaginary parts. Used in scientific computing. |\n",
        "| Complex 128                 | `torch.complex128`  | Complex type with 64-bit real & imaginary parts. High precision.               |\n",
        "| Quantized Integer           | `torch.qint8`       | Quantized signed 8-bit integer. Efficient for inference.                       |\n",
        "| Quantized Unsigned Integer  | `torch.quint8`      | Quantized unsigned 8-bit. Used in image-related quantized models.              |"
      ],
      "metadata": {
        "id": "8CXC4NOLxjvr"
      }
    },
    {
      "cell_type": "markdown",
      "source": [
        "# Mathematical Operation\n"
      ],
      "metadata": {
        "id": "oXdDxG1tyb5L"
      }
    },
    {
      "cell_type": "code",
      "source": [
        "y = torch.rand(2,2)\n",
        "y"
      ],
      "metadata": {
        "colab": {
          "base_uri": "https://localhost:8080/"
        },
        "id": "8tfUMc1iwrNR",
        "outputId": "8c9189f6-946a-45a7-dbee-ebccfd2ce417"
      },
      "execution_count": null,
      "outputs": [
        {
          "output_type": "execute_result",
          "data": {
            "text/plain": [
              "tensor([[0.7118, 0.7876],\n",
              "        [0.4183, 0.9014]])"
            ]
          },
          "metadata": {},
          "execution_count": 22
        }
      ]
    },
    {
      "cell_type": "code",
      "source": [
        "# Scalar operations\n",
        "\n",
        "# addition\n",
        "y + 2\n",
        "\n",
        "# substraction\n",
        "y - 2\n",
        "\n",
        "# division\n",
        "y/2\n",
        "\n",
        "# int division\n",
        "(50 * y)//2\n",
        "\n",
        "# modular division\n",
        "y % 2\n",
        "\n",
        "# power\n",
        "y ** 2"
      ],
      "metadata": {
        "colab": {
          "base_uri": "https://localhost:8080/"
        },
        "id": "u2iS459Gyhll",
        "outputId": "57110b1b-9b28-4cc3-e094-0298d7267e75"
      },
      "execution_count": null,
      "outputs": [
        {
          "output_type": "execute_result",
          "data": {
            "text/plain": [
              "tensor([[0.5066, 0.6203],\n",
              "        [0.1750, 0.8125]])"
            ]
          },
          "metadata": {},
          "execution_count": 23
        }
      ]
    },
    {
      "cell_type": "markdown",
      "source": [
        "# Elementwise Operation"
      ],
      "metadata": {
        "id": "xNXSdGau0M_n"
      }
    },
    {
      "cell_type": "code",
      "source": [
        "a = torch.rand(2,3)\n",
        "b = torch.rand(2,3)\n",
        "\n",
        "print(a)\n",
        "print(b)"
      ],
      "metadata": {
        "colab": {
          "base_uri": "https://localhost:8080/"
        },
        "id": "CBJlpR6HzAjK",
        "outputId": "792a2131-278e-400c-c651-c1e15ca0d189"
      },
      "execution_count": null,
      "outputs": [
        {
          "output_type": "stream",
          "name": "stdout",
          "text": [
            "tensor([[0.9969, 0.7565, 0.2239],\n",
            "        [0.3023, 0.1784, 0.8238]])\n",
            "tensor([[0.5557, 0.9770, 0.4440],\n",
            "        [0.9478, 0.7445, 0.4892]])\n"
          ]
        }
      ]
    },
    {
      "cell_type": "code",
      "source": [
        "# add\n",
        "a + b\n",
        "\n",
        "# substract\n",
        "a - b\n",
        "\n",
        "# mul\n",
        "a * b\n",
        "\n",
        "# div\n",
        "a / b\n",
        "\n",
        "# mod\n",
        "a % b\n",
        "\n",
        "# power\n",
        "a ** b"
      ],
      "metadata": {
        "colab": {
          "base_uri": "https://localhost:8080/"
        },
        "id": "YNDKqnkC0WCM",
        "outputId": "4a6a64e7-6c84-4e8e-9ee7-58cfb5a89213"
      },
      "execution_count": null,
      "outputs": [
        {
          "output_type": "execute_result",
          "data": {
            "text/plain": [
              "tensor([[0.9983, 0.7614, 0.5145],\n",
              "        [0.3218, 0.2771, 0.9096]])"
            ]
          },
          "metadata": {},
          "execution_count": 25
        }
      ]
    },
    {
      "cell_type": "markdown",
      "source": [
        "## Single Tensor Elementwise Operation"
      ],
      "metadata": {
        "id": "yEuuMiqB1Df2"
      }
    },
    {
      "cell_type": "code",
      "source": [
        "c = torch.tensor([1, -2, 3, -4])\n",
        "c"
      ],
      "metadata": {
        "colab": {
          "base_uri": "https://localhost:8080/"
        },
        "id": "si1B04490dli",
        "outputId": "a3d306c1-0d9d-46bd-c0d4-3880dbe680bc"
      },
      "execution_count": null,
      "outputs": [
        {
          "output_type": "execute_result",
          "data": {
            "text/plain": [
              "tensor([ 1, -2,  3, -4])"
            ]
          },
          "metadata": {},
          "execution_count": 26
        }
      ]
    },
    {
      "cell_type": "code",
      "source": [
        "# abs\n",
        "torch.abs(c)\n",
        "\n",
        "# neg\n",
        "torch.neg(c)"
      ],
      "metadata": {
        "colab": {
          "base_uri": "https://localhost:8080/"
        },
        "id": "gbRXgzu_1OX5",
        "outputId": "853c8b61-d7be-4849-ca9e-c26ef6e396d2"
      },
      "execution_count": null,
      "outputs": [
        {
          "output_type": "execute_result",
          "data": {
            "text/plain": [
              "tensor([-1,  2, -3,  4])"
            ]
          },
          "metadata": {},
          "execution_count": 27
        }
      ]
    },
    {
      "cell_type": "code",
      "source": [
        "d = torch.tensor([1.9, 2.3, 3.7, 4.4])"
      ],
      "metadata": {
        "id": "gZFND_KG1Qom"
      },
      "execution_count": null,
      "outputs": []
    },
    {
      "cell_type": "code",
      "source": [
        "# round\n",
        "torch.round(d)\n",
        "\n",
        "# ceil\n",
        "torch.ceil(d)\n",
        "\n",
        "# floor\n",
        "torch.floor(d)\n",
        "\n",
        "# clamp\n",
        "torch.clamp(d, min=3, max=4)"
      ],
      "metadata": {
        "colab": {
          "base_uri": "https://localhost:8080/"
        },
        "id": "3hfAjwi62Wlg",
        "outputId": "de14ce58-01b2-4793-c357-fa16425fd6e8"
      },
      "execution_count": null,
      "outputs": [
        {
          "output_type": "execute_result",
          "data": {
            "text/plain": [
              "tensor([3.0000, 3.0000, 3.7000, 4.0000])"
            ]
          },
          "metadata": {},
          "execution_count": 29
        }
      ]
    },
    {
      "cell_type": "markdown",
      "source": [
        "## Reduction Operation"
      ],
      "metadata": {
        "id": "hPU3DpOG6nyJ"
      }
    },
    {
      "cell_type": "code",
      "source": [
        "e = torch.randint(size =(2,3), low=0, high=20, dtype=torch.float32)\n",
        "e"
      ],
      "metadata": {
        "colab": {
          "base_uri": "https://localhost:8080/"
        },
        "id": "ASzReENI2kHm",
        "outputId": "a529f15e-efa7-4ba3-fe91-03a91fa2d993"
      },
      "execution_count": null,
      "outputs": [
        {
          "output_type": "execute_result",
          "data": {
            "text/plain": [
              "tensor([[18., 10.,  7.],\n",
              "        [ 0.,  0., 19.]])"
            ]
          },
          "metadata": {},
          "execution_count": 30
        }
      ]
    },
    {
      "cell_type": "code",
      "source": [
        "# sum\n",
        "torch.sum(e)\n",
        "\n",
        "# sum columnwise\n",
        "torch.sum(e, dim=0)\n",
        "\n",
        "# sum rowwise\n",
        "torch.sum(e, dim=1)"
      ],
      "metadata": {
        "colab": {
          "base_uri": "https://localhost:8080/"
        },
        "id": "J4U-POW4659R",
        "outputId": "3ccff26f-6f8e-42f1-e110-7201db6c4119"
      },
      "execution_count": null,
      "outputs": [
        {
          "output_type": "execute_result",
          "data": {
            "text/plain": [
              "tensor([35., 19.])"
            ]
          },
          "metadata": {},
          "execution_count": 31
        }
      ]
    },
    {
      "cell_type": "code",
      "source": [
        "# mean\n",
        "torch.mean(e)\n",
        "\n",
        "# mean, columnwise\n",
        "torch.mean(e, dim=0)\n",
        "\n",
        "# mean, rowwise\n",
        "torch.mean(e, dim=1)"
      ],
      "metadata": {
        "colab": {
          "base_uri": "https://localhost:8080/"
        },
        "id": "yxSiTxlq7BqP",
        "outputId": "90b26957-be75-4d13-ae72-00bb3f229ce1"
      },
      "execution_count": null,
      "outputs": [
        {
          "output_type": "execute_result",
          "data": {
            "text/plain": [
              "tensor([11.6667,  6.3333])"
            ]
          },
          "metadata": {},
          "execution_count": 32
        }
      ]
    },
    {
      "cell_type": "code",
      "source": [
        "# median\n",
        "torch.median(e)"
      ],
      "metadata": {
        "colab": {
          "base_uri": "https://localhost:8080/"
        },
        "id": "gvm76b7k7ibl",
        "outputId": "fb0be357-a3e5-489e-b076-64be5d71a6d5"
      },
      "execution_count": null,
      "outputs": [
        {
          "output_type": "execute_result",
          "data": {
            "text/plain": [
              "tensor(7.)"
            ]
          },
          "metadata": {},
          "execution_count": 33
        }
      ]
    },
    {
      "cell_type": "code",
      "source": [
        "# min and max\n",
        "torch.min(e)\n",
        "torch.max(e)"
      ],
      "metadata": {
        "colab": {
          "base_uri": "https://localhost:8080/"
        },
        "id": "kszKumFj8TBP",
        "outputId": "20ff6f1d-2d33-4b35-d423-25b78b0a11b3"
      },
      "execution_count": null,
      "outputs": [
        {
          "output_type": "execute_result",
          "data": {
            "text/plain": [
              "tensor(19.)"
            ]
          },
          "metadata": {},
          "execution_count": 34
        }
      ]
    },
    {
      "cell_type": "code",
      "source": [
        "# product\n",
        "torch.prod(e)"
      ],
      "metadata": {
        "colab": {
          "base_uri": "https://localhost:8080/"
        },
        "id": "FgOybkTI8YvM",
        "outputId": "df26d62b-cc46-4528-e463-4e993e2280d0"
      },
      "execution_count": null,
      "outputs": [
        {
          "output_type": "execute_result",
          "data": {
            "text/plain": [
              "tensor(0.)"
            ]
          },
          "metadata": {},
          "execution_count": 35
        }
      ]
    },
    {
      "cell_type": "code",
      "source": [
        "# standard deviation\n",
        "torch.std(e)"
      ],
      "metadata": {
        "colab": {
          "base_uri": "https://localhost:8080/"
        },
        "id": "FwJPNc-R8feF",
        "outputId": "56d18d2f-c0b7-4934-d857-0cc1ca5bffae"
      },
      "execution_count": null,
      "outputs": [
        {
          "output_type": "execute_result",
          "data": {
            "text/plain": [
              "tensor(8.3427)"
            ]
          },
          "metadata": {},
          "execution_count": 36
        }
      ]
    },
    {
      "cell_type": "code",
      "source": [
        "# variance\n",
        "torch.var(e)"
      ],
      "metadata": {
        "colab": {
          "base_uri": "https://localhost:8080/"
        },
        "id": "-Mj-OBy98jQm",
        "outputId": "b917c734-007e-410e-f9ea-d490805911ed"
      },
      "execution_count": null,
      "outputs": [
        {
          "output_type": "execute_result",
          "data": {
            "text/plain": [
              "tensor(69.6000)"
            ]
          },
          "metadata": {},
          "execution_count": 37
        }
      ]
    },
    {
      "cell_type": "code",
      "source": [
        "# argmax\n",
        "torch.argmax(e)"
      ],
      "metadata": {
        "colab": {
          "base_uri": "https://localhost:8080/"
        },
        "id": "iRJxikyj8xPx",
        "outputId": "fafaeedc-44f6-496a-e09b-be86f0368436"
      },
      "execution_count": null,
      "outputs": [
        {
          "output_type": "execute_result",
          "data": {
            "text/plain": [
              "tensor(5)"
            ]
          },
          "metadata": {},
          "execution_count": 38
        }
      ]
    },
    {
      "cell_type": "code",
      "source": [
        "# argmin\n",
        "torch.argmin(e)"
      ],
      "metadata": {
        "colab": {
          "base_uri": "https://localhost:8080/"
        },
        "id": "PZSGJo7n80vm",
        "outputId": "8857a451-eff4-49aa-9418-e9ff44397f6e"
      },
      "execution_count": null,
      "outputs": [
        {
          "output_type": "execute_result",
          "data": {
            "text/plain": [
              "tensor(3)"
            ]
          },
          "metadata": {},
          "execution_count": 39
        }
      ]
    },
    {
      "cell_type": "markdown",
      "source": [
        "## Matrix Operation\n",
        "\n"
      ],
      "metadata": {
        "id": "lNavkNuO9P3_"
      }
    },
    {
      "cell_type": "code",
      "source": [
        "f = torch.randint(size =(2,3), low=0, high=20)\n",
        "g = torch.randint(size =(3,2), low=0, high=20)\n",
        "\n",
        "print(f)\n",
        "print(g)"
      ],
      "metadata": {
        "colab": {
          "base_uri": "https://localhost:8080/"
        },
        "id": "uaINy6Dj87az",
        "outputId": "c00a4182-6966-40d5-c396-a54d2b79b83b"
      },
      "execution_count": null,
      "outputs": [
        {
          "output_type": "stream",
          "name": "stdout",
          "text": [
            "tensor([[ 5, 17, 13],\n",
            "        [19,  4,  0]])\n",
            "tensor([[15,  7],\n",
            "        [15, 19],\n",
            "        [ 9,  7]])\n"
          ]
        }
      ]
    },
    {
      "cell_type": "code",
      "source": [
        "# matrix multiplication\n",
        "torch.matmul(f,g)"
      ],
      "metadata": {
        "colab": {
          "base_uri": "https://localhost:8080/"
        },
        "id": "_CY0MwvW9Yoq",
        "outputId": "b3640ac8-e6d6-42ef-ce2c-b0fdc75a6714"
      },
      "execution_count": null,
      "outputs": [
        {
          "output_type": "execute_result",
          "data": {
            "text/plain": [
              "tensor([[447, 449],\n",
              "        [345, 209]])"
            ]
          },
          "metadata": {},
          "execution_count": 41
        }
      ]
    },
    {
      "cell_type": "code",
      "source": [
        "# dot product\n",
        "\n",
        "vec1 = torch.tensor([1,2])\n",
        "vec2 = torch.tensor([3,4])\n",
        "\n",
        "torch.dot(vec1, vec2)\n",
        "\n"
      ],
      "metadata": {
        "colab": {
          "base_uri": "https://localhost:8080/"
        },
        "id": "KCPeSgKg9jJs",
        "outputId": "079120b9-4701-462b-c46a-ae67cfbf11bd"
      },
      "execution_count": null,
      "outputs": [
        {
          "output_type": "execute_result",
          "data": {
            "text/plain": [
              "tensor(11)"
            ]
          },
          "metadata": {},
          "execution_count": 42
        }
      ]
    },
    {
      "cell_type": "code",
      "source": [
        "f"
      ],
      "metadata": {
        "colab": {
          "base_uri": "https://localhost:8080/"
        },
        "id": "Au0UNo69_m6l",
        "outputId": "ea89eed5-4711-45df-d714-2df00a13e728"
      },
      "execution_count": null,
      "outputs": [
        {
          "output_type": "execute_result",
          "data": {
            "text/plain": [
              "tensor([[ 5, 17, 13],\n",
              "        [19,  4,  0]])"
            ]
          },
          "metadata": {},
          "execution_count": 43
        }
      ]
    },
    {
      "cell_type": "code",
      "source": [
        "# transpose\n",
        "torch.transpose(f,0,1)"
      ],
      "metadata": {
        "colab": {
          "base_uri": "https://localhost:8080/"
        },
        "id": "6vekjibW_aQk",
        "outputId": "413511ee-bc28-4c02-fca6-45733b7c947e"
      },
      "execution_count": null,
      "outputs": [
        {
          "output_type": "execute_result",
          "data": {
            "text/plain": [
              "tensor([[ 5, 19],\n",
              "        [17,  4],\n",
              "        [13,  0]])"
            ]
          },
          "metadata": {},
          "execution_count": 44
        }
      ]
    },
    {
      "cell_type": "code",
      "source": [
        "h = torch.randint(size = (3,3), low=0, high=10, dtype=torch.float32)\n",
        "h"
      ],
      "metadata": {
        "colab": {
          "base_uri": "https://localhost:8080/"
        },
        "id": "JKbzDj_4_zsv",
        "outputId": "2da6c2e0-936b-45de-c123-9e64caf7c14b"
      },
      "execution_count": null,
      "outputs": [
        {
          "output_type": "execute_result",
          "data": {
            "text/plain": [
              "tensor([[5., 9., 8.],\n",
              "        [9., 7., 9.],\n",
              "        [2., 6., 7.]])"
            ]
          },
          "metadata": {},
          "execution_count": 45
        }
      ]
    },
    {
      "cell_type": "code",
      "source": [
        "# determinant\n",
        "torch.det(h)"
      ],
      "metadata": {
        "colab": {
          "base_uri": "https://localhost:8080/"
        },
        "id": "7vHmDHom-tS0",
        "outputId": "2a5533dd-6ba9-45d6-a671-41e08456dc6e"
      },
      "execution_count": null,
      "outputs": [
        {
          "output_type": "execute_result",
          "data": {
            "text/plain": [
              "tensor(-110.)"
            ]
          },
          "metadata": {},
          "execution_count": 46
        }
      ]
    },
    {
      "cell_type": "code",
      "source": [
        "# inverse\n",
        "torch.inverse(h)"
      ],
      "metadata": {
        "colab": {
          "base_uri": "https://localhost:8080/"
        },
        "id": "9lW2MSc1AUDW",
        "outputId": "bdb16d11-dbb2-45d8-c66c-17045d4d7c7b"
      },
      "execution_count": null,
      "outputs": [
        {
          "output_type": "execute_result",
          "data": {
            "text/plain": [
              "tensor([[ 0.0455,  0.1364, -0.2273],\n",
              "        [ 0.4091, -0.1727, -0.2455],\n",
              "        [-0.3636,  0.1091,  0.4182]])"
            ]
          },
          "metadata": {},
          "execution_count": 47
        }
      ]
    },
    {
      "cell_type": "markdown",
      "source": [
        "## Comparision Operation"
      ],
      "metadata": {
        "id": "HsMZoDs3BNFE"
      }
    },
    {
      "cell_type": "code",
      "source": [
        "i = torch.randint(size=(2,3), low=0, high=10)\n",
        "j = torch.randint(size=(2,3), low=0, high=10)\n",
        "\n",
        "print(i)\n",
        "print(j)"
      ],
      "metadata": {
        "colab": {
          "base_uri": "https://localhost:8080/"
        },
        "id": "G02HddwpAoS5",
        "outputId": "52673b15-00be-46f6-eb36-ae36f3ef737a"
      },
      "execution_count": null,
      "outputs": [
        {
          "output_type": "stream",
          "name": "stdout",
          "text": [
            "tensor([[7, 8, 3],\n",
            "        [6, 1, 5]])\n",
            "tensor([[5, 0, 4],\n",
            "        [3, 8, 8]])\n"
          ]
        }
      ]
    },
    {
      "cell_type": "code",
      "source": [
        "# greater than\n",
        "i > j\n",
        "\n",
        "# less than\n",
        "i < j\n",
        "\n",
        "# equal to\n",
        "i == j\n",
        "\n",
        "# not equal to\n",
        "i != j\n",
        "\n",
        "# greater than equal to\n",
        "\n",
        "# less than equal to"
      ],
      "metadata": {
        "colab": {
          "base_uri": "https://localhost:8080/"
        },
        "id": "dhMQ9Z0WBWQN",
        "outputId": "b94a421b-a7a4-4cbd-a284-122aac97c22c"
      },
      "execution_count": null,
      "outputs": [
        {
          "output_type": "execute_result",
          "data": {
            "text/plain": [
              "tensor([[True, True, True],\n",
              "        [True, True, True]])"
            ]
          },
          "metadata": {},
          "execution_count": 49
        }
      ]
    },
    {
      "cell_type": "markdown",
      "source": [
        "## Special Functions"
      ],
      "metadata": {
        "id": "8Nrn0izdB178"
      }
    },
    {
      "cell_type": "code",
      "source": [
        "k = torch.randint(size = (2,3), low=0, high=10, dtype=torch.float32)\n",
        "k"
      ],
      "metadata": {
        "colab": {
          "base_uri": "https://localhost:8080/"
        },
        "id": "V6kp98Ye8YJy",
        "outputId": "7a10b95c-e658-4769-cb25-c8e76dc52e2a"
      },
      "execution_count": null,
      "outputs": [
        {
          "output_type": "execute_result",
          "data": {
            "text/plain": [
              "tensor([[0., 8., 4.],\n",
              "        [7., 2., 3.]])"
            ]
          },
          "metadata": {},
          "execution_count": 57
        }
      ]
    },
    {
      "cell_type": "code",
      "source": [
        "# log\n",
        "torch.log(k)\n"
      ],
      "metadata": {
        "id": "9-C-3mDKBaU7",
        "colab": {
          "base_uri": "https://localhost:8080/"
        },
        "outputId": "8e69fe11-94ab-48ca-ebd9-1ae6dccc3557"
      },
      "execution_count": null,
      "outputs": [
        {
          "output_type": "execute_result",
          "data": {
            "text/plain": [
              "tensor([[  -inf, 2.0794, 1.3863],\n",
              "        [1.9459, 0.6931, 1.0986]])"
            ]
          },
          "metadata": {},
          "execution_count": 58
        }
      ]
    },
    {
      "cell_type": "code",
      "source": [
        "# exp\n",
        "torch.exp(k)"
      ],
      "metadata": {
        "colab": {
          "base_uri": "https://localhost:8080/"
        },
        "id": "2OiuwcxY8haa",
        "outputId": "8b6b7684-30cd-4e4d-ce9d-9cdb0ecfd4e5"
      },
      "execution_count": null,
      "outputs": [
        {
          "output_type": "execute_result",
          "data": {
            "text/plain": [
              "tensor([[1.0000e+00, 2.9810e+03, 5.4598e+01],\n",
              "        [1.0966e+03, 7.3891e+00, 2.0086e+01]])"
            ]
          },
          "metadata": {},
          "execution_count": 59
        }
      ]
    },
    {
      "cell_type": "code",
      "source": [
        "# sqrt\n",
        "torch.sqrt(k)"
      ],
      "metadata": {
        "colab": {
          "base_uri": "https://localhost:8080/"
        },
        "id": "8rQMxYnc8ld1",
        "outputId": "84f79811-e87d-4bca-d72f-8202207aa9f3"
      },
      "execution_count": null,
      "outputs": [
        {
          "output_type": "execute_result",
          "data": {
            "text/plain": [
              "tensor([[0.0000, 2.8284, 2.0000],\n",
              "        [2.6458, 1.4142, 1.7321]])"
            ]
          },
          "metadata": {},
          "execution_count": 60
        }
      ]
    },
    {
      "cell_type": "code",
      "source": [
        "# sigmoid\n",
        "torch.sigmoid(k)"
      ],
      "metadata": {
        "colab": {
          "base_uri": "https://localhost:8080/"
        },
        "id": "THYp08O_8n_E",
        "outputId": "f72f1223-12b2-4326-963b-795bd701325d"
      },
      "execution_count": null,
      "outputs": [
        {
          "output_type": "execute_result",
          "data": {
            "text/plain": [
              "tensor([[0.5000, 0.9997, 0.9820],\n",
              "        [0.9991, 0.8808, 0.9526]])"
            ]
          },
          "metadata": {},
          "execution_count": 61
        }
      ]
    },
    {
      "cell_type": "code",
      "source": [
        "# softmax\n",
        "torch.softmax(k, dim=0)"
      ],
      "metadata": {
        "colab": {
          "base_uri": "https://localhost:8080/"
        },
        "id": "UfEAiIwf8v1J",
        "outputId": "be04efe5-b336-406d-842f-203b629f6a3b"
      },
      "execution_count": null,
      "outputs": [
        {
          "output_type": "execute_result",
          "data": {
            "text/plain": [
              "tensor([[9.1105e-04, 9.9753e-01, 7.3106e-01],\n",
              "        [9.9909e-01, 2.4726e-03, 2.6894e-01]])"
            ]
          },
          "metadata": {},
          "execution_count": 62
        }
      ]
    },
    {
      "cell_type": "code",
      "source": [
        "# relu\n",
        "torch.relu(k)"
      ],
      "metadata": {
        "colab": {
          "base_uri": "https://localhost:8080/"
        },
        "id": "XHATF6mL8zBS",
        "outputId": "af4022fe-99f0-4c82-94e9-a478b8a63901"
      },
      "execution_count": null,
      "outputs": [
        {
          "output_type": "execute_result",
          "data": {
            "text/plain": [
              "tensor([[0., 8., 4.],\n",
              "        [7., 2., 3.]])"
            ]
          },
          "metadata": {},
          "execution_count": 63
        }
      ]
    },
    {
      "cell_type": "markdown",
      "source": [
        "## Inplace Operations\n",
        "\n",
        "\n",
        "---\n",
        "\n",
        "In PyTorch, an in-place operation directly modifies the content of a tensor without creating a new one. In-place operations are typically indicated by a trailing underscore (_) in the method name (e.g., add_(), relu_(), etc.).\n",
        "\n"
      ],
      "metadata": {
        "id": "2ylpwHZ_95xc"
      }
    },
    {
      "cell_type": "code",
      "source": [
        "m = torch.rand(2,3)\n",
        "n = torch.rand(2,3)\n",
        "\n",
        "print(m)\n",
        "print(n)"
      ],
      "metadata": {
        "colab": {
          "base_uri": "https://localhost:8080/"
        },
        "id": "7NM35_9k9M06",
        "outputId": "df0bbe9c-ec8d-401a-8841-cf213820fc0b"
      },
      "execution_count": null,
      "outputs": [
        {
          "output_type": "stream",
          "name": "stdout",
          "text": [
            "tensor([[0.4920, 0.0748, 0.9605],\n",
            "        [0.3271, 0.0103, 0.9516]])\n",
            "tensor([[0.2855, 0.2324, 0.9141],\n",
            "        [0.7668, 0.1659, 0.4393]])\n"
          ]
        }
      ]
    },
    {
      "cell_type": "code",
      "source": [
        "m.add_(n) # m + n stores the result in a new address, occupying more memory, so we use m.add_(n) instead"
      ],
      "metadata": {
        "colab": {
          "base_uri": "https://localhost:8080/"
        },
        "id": "FeRV7GAv-HB4",
        "outputId": "ce0b74b9-a6b8-4f72-cd3d-5989e80489cb"
      },
      "execution_count": null,
      "outputs": [
        {
          "output_type": "execute_result",
          "data": {
            "text/plain": [
              "tensor([[0.7776, 0.3072, 1.8746],\n",
              "        [1.0939, 0.1762, 1.3909]])"
            ]
          },
          "metadata": {},
          "execution_count": 65
        }
      ]
    },
    {
      "cell_type": "code",
      "source": [
        "m"
      ],
      "metadata": {
        "colab": {
          "base_uri": "https://localhost:8080/"
        },
        "id": "tiAjkgbA-Jxy",
        "outputId": "6c013745-be1e-4972-a322-cb05d8263ef1"
      },
      "execution_count": null,
      "outputs": [
        {
          "output_type": "execute_result",
          "data": {
            "text/plain": [
              "tensor([[0.7776, 0.3072, 1.8746],\n",
              "        [1.0939, 0.1762, 1.3909]])"
            ]
          },
          "metadata": {},
          "execution_count": 66
        }
      ]
    },
    {
      "cell_type": "code",
      "source": [
        "n"
      ],
      "metadata": {
        "colab": {
          "base_uri": "https://localhost:8080/"
        },
        "id": "SfTkQeMM-Ldu",
        "outputId": "b94f0052-ae6c-43e8-a8c8-06e050e9689d"
      },
      "execution_count": null,
      "outputs": [
        {
          "output_type": "execute_result",
          "data": {
            "text/plain": [
              "tensor([[0.2855, 0.2324, 0.9141],\n",
              "        [0.7668, 0.1659, 0.4393]])"
            ]
          },
          "metadata": {},
          "execution_count": 67
        }
      ]
    },
    {
      "cell_type": "code",
      "source": [
        "torch.relu(m) # creates a new tensor and leaves m unchanged"
      ],
      "metadata": {
        "colab": {
          "base_uri": "https://localhost:8080/"
        },
        "id": "Aet5WDuX-NBb",
        "outputId": "a9d236d6-03ea-4953-cf65-2ce8f279836a"
      },
      "execution_count": null,
      "outputs": [
        {
          "output_type": "execute_result",
          "data": {
            "text/plain": [
              "tensor([[0.7776, 0.3072, 1.8746],\n",
              "        [1.0939, 0.1762, 1.3909]])"
            ]
          },
          "metadata": {},
          "execution_count": 69
        }
      ]
    },
    {
      "cell_type": "code",
      "source": [
        "m.relu_() # modifies m in place, replacing negative values with zero directly in m."
      ],
      "metadata": {
        "colab": {
          "base_uri": "https://localhost:8080/"
        },
        "id": "_4iL-bCn_U71",
        "outputId": "aae836e5-7d21-4db9-bece-056a01053000"
      },
      "execution_count": null,
      "outputs": [
        {
          "output_type": "execute_result",
          "data": {
            "text/plain": [
              "tensor([[0.7776, 0.3072, 1.8746],\n",
              "        [1.0939, 0.1762, 1.3909]])"
            ]
          },
          "metadata": {},
          "execution_count": 71
        }
      ]
    },
    {
      "cell_type": "markdown",
      "source": [
        "## Copying a Tensor"
      ],
      "metadata": {
        "id": "gB5aceFVAU3B"
      }
    },
    {
      "cell_type": "code",
      "source": [
        "o = torch.rand(2,3)\n",
        "o"
      ],
      "metadata": {
        "colab": {
          "base_uri": "https://localhost:8080/"
        },
        "id": "jjsdPnCX_dJK",
        "outputId": "a699230a-bc3b-4d60-f12d-b499d8326661"
      },
      "execution_count": null,
      "outputs": [
        {
          "output_type": "execute_result",
          "data": {
            "text/plain": [
              "tensor([[0.9186, 0.2131, 0.3957],\n",
              "        [0.6017, 0.4234, 0.5224]])"
            ]
          },
          "metadata": {},
          "execution_count": 73
        }
      ]
    },
    {
      "cell_type": "code",
      "source": [
        "p = o # not desirable"
      ],
      "metadata": {
        "id": "6SMzbBLuAbXR"
      },
      "execution_count": null,
      "outputs": []
    },
    {
      "cell_type": "code",
      "source": [
        "p"
      ],
      "metadata": {
        "colab": {
          "base_uri": "https://localhost:8080/"
        },
        "id": "A-Cs0AQRAgXQ",
        "outputId": "c39e4f08-7af6-4404-a159-fcf2671a2da7"
      },
      "execution_count": null,
      "outputs": [
        {
          "output_type": "execute_result",
          "data": {
            "text/plain": [
              "tensor([[0.9186, 0.2131, 0.3957],\n",
              "        [0.6017, 0.4234, 0.5224]])"
            ]
          },
          "metadata": {},
          "execution_count": 75
        }
      ]
    },
    {
      "cell_type": "code",
      "source": [
        "o[0][0] = 0 # change the original matrix\n",
        "o"
      ],
      "metadata": {
        "colab": {
          "base_uri": "https://localhost:8080/"
        },
        "id": "K4hZLI94Ag3C",
        "outputId": "f2f4b614-5eb3-4b7b-b4c2-029c0f2dc7d3"
      },
      "execution_count": null,
      "outputs": [
        {
          "output_type": "execute_result",
          "data": {
            "text/plain": [
              "tensor([[0.0000, 0.2131, 0.3957],\n",
              "        [0.6017, 0.4234, 0.5224]])"
            ]
          },
          "metadata": {},
          "execution_count": 76
        }
      ]
    },
    {
      "cell_type": "code",
      "source": [
        "p # the copied matrix has also changed"
      ],
      "metadata": {
        "colab": {
          "base_uri": "https://localhost:8080/"
        },
        "id": "vgP62wrCAn2S",
        "outputId": "8b25e76c-60f5-4635-9ef1-d0c653ca7b74"
      },
      "execution_count": null,
      "outputs": [
        {
          "output_type": "execute_result",
          "data": {
            "text/plain": [
              "tensor([[0.0000, 0.2131, 0.3957],\n",
              "        [0.6017, 0.4234, 0.5224]])"
            ]
          },
          "metadata": {},
          "execution_count": 78
        }
      ]
    },
    {
      "cell_type": "code",
      "source": [
        "id(o)"
      ],
      "metadata": {
        "colab": {
          "base_uri": "https://localhost:8080/"
        },
        "id": "6ZTQ_98KAowy",
        "outputId": "f382f78c-ece5-4751-9394-774c81a5ff32"
      },
      "execution_count": null,
      "outputs": [
        {
          "output_type": "execute_result",
          "data": {
            "text/plain": [
              "135840601094480"
            ]
          },
          "metadata": {},
          "execution_count": 79
        }
      ]
    },
    {
      "cell_type": "code",
      "source": [
        "id(p) # pointing to the same id as original matrix"
      ],
      "metadata": {
        "colab": {
          "base_uri": "https://localhost:8080/"
        },
        "id": "t4z5FJFjAuX-",
        "outputId": "4c5dd144-29e4-43cb-fb5a-b27aaac9ac82"
      },
      "execution_count": null,
      "outputs": [
        {
          "output_type": "execute_result",
          "data": {
            "text/plain": [
              "135840601094480"
            ]
          },
          "metadata": {},
          "execution_count": 81
        }
      ]
    },
    {
      "cell_type": "code",
      "source": [
        "# Using clone() function to copy a tensor\n",
        "p = o.clone() # tensor is formed completely at new location"
      ],
      "metadata": {
        "id": "yoQNyNR5AvcB"
      },
      "execution_count": null,
      "outputs": []
    },
    {
      "cell_type": "code",
      "source": [
        "o"
      ],
      "metadata": {
        "colab": {
          "base_uri": "https://localhost:8080/"
        },
        "id": "tNxv1rkpA9CN",
        "outputId": "280e4995-d8b1-43fc-88df-6272bcd5b025"
      },
      "execution_count": null,
      "outputs": [
        {
          "output_type": "execute_result",
          "data": {
            "text/plain": [
              "tensor([[0.0000, 0.2131, 0.3957],\n",
              "        [0.6017, 0.4234, 0.5224]])"
            ]
          },
          "metadata": {},
          "execution_count": 84
        }
      ]
    },
    {
      "cell_type": "code",
      "source": [
        "p"
      ],
      "metadata": {
        "colab": {
          "base_uri": "https://localhost:8080/"
        },
        "id": "pte32M20BEHg",
        "outputId": "0a712d14-730d-4604-c4e8-75c7c30365cd"
      },
      "execution_count": null,
      "outputs": [
        {
          "output_type": "execute_result",
          "data": {
            "text/plain": [
              "tensor([[0.0000, 0.2131, 0.3957],\n",
              "        [0.6017, 0.4234, 0.5224]])"
            ]
          },
          "metadata": {},
          "execution_count": 85
        }
      ]
    },
    {
      "cell_type": "code",
      "source": [
        "# change original tensor\n",
        "o[0][0] = 8"
      ],
      "metadata": {
        "id": "rkOkuWcmBEga"
      },
      "execution_count": null,
      "outputs": []
    },
    {
      "cell_type": "code",
      "source": [
        "o"
      ],
      "metadata": {
        "colab": {
          "base_uri": "https://localhost:8080/"
        },
        "id": "aaXDPmxMBNtQ",
        "outputId": "adde0606-ed02-4081-c924-1e05770caac9"
      },
      "execution_count": null,
      "outputs": [
        {
          "output_type": "execute_result",
          "data": {
            "text/plain": [
              "tensor([[8.0000, 0.2131, 0.3957],\n",
              "        [0.6017, 0.4234, 0.5224]])"
            ]
          },
          "metadata": {},
          "execution_count": 87
        }
      ]
    },
    {
      "cell_type": "code",
      "source": [
        "p # p remains unchanged"
      ],
      "metadata": {
        "colab": {
          "base_uri": "https://localhost:8080/"
        },
        "id": "HVO_JWbmBO2M",
        "outputId": "5b79354c-0bc4-438e-f137-445198d09f59"
      },
      "execution_count": null,
      "outputs": [
        {
          "output_type": "execute_result",
          "data": {
            "text/plain": [
              "tensor([[0.0000, 0.2131, 0.3957],\n",
              "        [0.6017, 0.4234, 0.5224]])"
            ]
          },
          "metadata": {},
          "execution_count": 89
        }
      ]
    },
    {
      "cell_type": "code",
      "source": [
        "id(o)"
      ],
      "metadata": {
        "colab": {
          "base_uri": "https://localhost:8080/"
        },
        "id": "tzkeZoMYBPVL",
        "outputId": "93a92482-04b6-4aa2-efed-9cce09bac3fc"
      },
      "execution_count": null,
      "outputs": [
        {
          "output_type": "execute_result",
          "data": {
            "text/plain": [
              "135840601094480"
            ]
          },
          "metadata": {},
          "execution_count": 91
        }
      ]
    },
    {
      "cell_type": "code",
      "source": [
        "id(p) # tensor is formed completely at new location"
      ],
      "metadata": {
        "colab": {
          "base_uri": "https://localhost:8080/"
        },
        "id": "AVvS_VCyBgm9",
        "outputId": "a408a06d-49a6-46aa-cd50-b9d1a7242201"
      },
      "execution_count": null,
      "outputs": [
        {
          "output_type": "execute_result",
          "data": {
            "text/plain": [
              "135840599302672"
            ]
          },
          "metadata": {},
          "execution_count": 93
        }
      ]
    },
    {
      "cell_type": "markdown",
      "source": [
        "# Tensor Operations on GPU"
      ],
      "metadata": {
        "id": "NekhNoL-CShc"
      }
    },
    {
      "cell_type": "code",
      "source": [
        "torch.cuda.is_available()"
      ],
      "metadata": {
        "colab": {
          "base_uri": "https://localhost:8080/"
        },
        "id": "c7CjSAfOBhTD",
        "outputId": "72d097b9-1092-4cab-8127-6c9d63096e7d"
      },
      "execution_count": null,
      "outputs": [
        {
          "output_type": "execute_result",
          "data": {
            "text/plain": [
              "True"
            ]
          },
          "metadata": {},
          "execution_count": 95
        }
      ]
    },
    {
      "cell_type": "code",
      "source": [
        "device = torch.device('cuda') # assigning gpu to device variable"
      ],
      "metadata": {
        "id": "gx_A5KCmCYLz"
      },
      "execution_count": null,
      "outputs": []
    },
    {
      "cell_type": "code",
      "source": [
        "# creating a new tensor on GPU\n",
        "\n",
        "torch.rand((2,3), device = device)"
      ],
      "metadata": {
        "colab": {
          "base_uri": "https://localhost:8080/"
        },
        "id": "mTGD9FIECfo7",
        "outputId": "1a96055d-7c39-429a-d7ac-0d1750c28f80"
      },
      "execution_count": null,
      "outputs": [
        {
          "output_type": "execute_result",
          "data": {
            "text/plain": [
              "tensor([[0.3563, 0.0303, 0.7088],\n",
              "        [0.2009, 0.0224, 0.9896]], device='cuda:0')"
            ]
          },
          "metadata": {},
          "execution_count": 98
        }
      ]
    },
    {
      "cell_type": "code",
      "source": [
        "# moving an existing tensor to GPU\n",
        "a"
      ],
      "metadata": {
        "colab": {
          "base_uri": "https://localhost:8080/"
        },
        "id": "99_Y83zKCpr2",
        "outputId": "c96faa6f-31a1-4a98-d326-04ac9eed4b12"
      },
      "execution_count": null,
      "outputs": [
        {
          "output_type": "execute_result",
          "data": {
            "text/plain": [
              "tensor([[0.9969, 0.7565, 0.2239],\n",
              "        [0.3023, 0.1784, 0.8238]])"
            ]
          },
          "metadata": {},
          "execution_count": 99
        }
      ]
    },
    {
      "cell_type": "code",
      "source": [
        "# moving an existing tensor a to GPU\n",
        "q = a.to(device)\n",
        "q"
      ],
      "metadata": {
        "colab": {
          "base_uri": "https://localhost:8080/"
        },
        "id": "LdKl6DJaCzau",
        "outputId": "950c2e2b-8ba0-4993-d5d3-729f01d33ebc"
      },
      "execution_count": null,
      "outputs": [
        {
          "output_type": "execute_result",
          "data": {
            "text/plain": [
              "tensor([[0.9969, 0.7565, 0.2239],\n",
              "        [0.3023, 0.1784, 0.8238]], device='cuda:0')"
            ]
          },
          "metadata": {},
          "execution_count": 102
        }
      ]
    },
    {
      "cell_type": "code",
      "source": [
        "q + 2 # all operations perfomed will be performed in gpu"
      ],
      "metadata": {
        "colab": {
          "base_uri": "https://localhost:8080/"
        },
        "id": "XgVrKoIpDAGc",
        "outputId": "b986f3c8-5902-4314-bafb-d4db471ab790"
      },
      "execution_count": null,
      "outputs": [
        {
          "output_type": "execute_result",
          "data": {
            "text/plain": [
              "tensor([[2.9969, 2.7565, 2.2239],\n",
              "        [2.3023, 2.1784, 2.8238]], device='cuda:0')"
            ]
          },
          "metadata": {},
          "execution_count": 104
        }
      ]
    },
    {
      "cell_type": "markdown",
      "source": [
        "# Reshaping Tensors"
      ],
      "metadata": {
        "id": "-vyReNx0D--F"
      }
    },
    {
      "cell_type": "code",
      "source": [
        "r = torch.ones(4,4)\n",
        "r"
      ],
      "metadata": {
        "colab": {
          "base_uri": "https://localhost:8080/"
        },
        "id": "3yxUymFgDMta",
        "outputId": "1c875b0a-922c-4f81-fa49-96004b7199be"
      },
      "execution_count": null,
      "outputs": [
        {
          "output_type": "execute_result",
          "data": {
            "text/plain": [
              "tensor([[1., 1., 1., 1.],\n",
              "        [1., 1., 1., 1.],\n",
              "        [1., 1., 1., 1.],\n",
              "        [1., 1., 1., 1.]])"
            ]
          },
          "metadata": {},
          "execution_count": 105
        }
      ]
    },
    {
      "cell_type": "code",
      "source": [
        "# reshape\n",
        "r.reshape(2,2,2,2)"
      ],
      "metadata": {
        "colab": {
          "base_uri": "https://localhost:8080/"
        },
        "id": "4PEWP7ZzEJUk",
        "outputId": "4f2ef3cf-a0e5-4b45-b3bc-20edbf2eb8c3"
      },
      "execution_count": null,
      "outputs": [
        {
          "output_type": "execute_result",
          "data": {
            "text/plain": [
              "tensor([[[[1., 1.],\n",
              "          [1., 1.]],\n",
              "\n",
              "         [[1., 1.],\n",
              "          [1., 1.]]],\n",
              "\n",
              "\n",
              "        [[[1., 1.],\n",
              "          [1., 1.]],\n",
              "\n",
              "         [[1., 1.],\n",
              "          [1., 1.]]]])"
            ]
          },
          "metadata": {},
          "execution_count": 106
        }
      ]
    },
    {
      "cell_type": "code",
      "source": [
        "# flatten gives one dimensional tensor\n",
        "r.flatten()"
      ],
      "metadata": {
        "colab": {
          "base_uri": "https://localhost:8080/"
        },
        "id": "yDe3EeziENOp",
        "outputId": "2988118a-beb9-4679-e8db-1d7b85c74161"
      },
      "execution_count": null,
      "outputs": [
        {
          "output_type": "execute_result",
          "data": {
            "text/plain": [
              "tensor([1., 1., 1., 1., 1., 1., 1., 1., 1., 1., 1., 1., 1., 1., 1., 1.])"
            ]
          },
          "metadata": {},
          "execution_count": 107
        }
      ]
    },
    {
      "cell_type": "code",
      "source": [
        "s = torch.rand(2,3,4) # s is at '0', 3 is at '1' and 4 is at '2'.\n",
        "s"
      ],
      "metadata": {
        "colab": {
          "base_uri": "https://localhost:8080/"
        },
        "id": "Tv_7QBVsEafq",
        "outputId": "968583d4-93c4-47e7-a122-145b1a21c464"
      },
      "execution_count": null,
      "outputs": [
        {
          "output_type": "execute_result",
          "data": {
            "text/plain": [
              "tensor([[[0.4907, 0.2130, 0.4603, 0.1386],\n",
              "         [0.0277, 0.5662, 0.3503, 0.6555],\n",
              "         [0.7667, 0.2269, 0.7555, 0.6458]],\n",
              "\n",
              "        [[0.3673, 0.1770, 0.2966, 0.9925],\n",
              "         [0.2103, 0.1292, 0.1719, 0.9127],\n",
              "         [0.6818, 0.1953, 0.9991, 0.1133]]])"
            ]
          },
          "metadata": {},
          "execution_count": 110
        }
      ]
    },
    {
      "cell_type": "code",
      "source": [
        "# permute\n",
        "s.permute(2,0,1)"
      ],
      "metadata": {
        "colab": {
          "base_uri": "https://localhost:8080/"
        },
        "id": "Y5VQlUHQE4WD",
        "outputId": "b7901e67-6bd0-4465-c948-44447dccf3f4"
      },
      "execution_count": null,
      "outputs": [
        {
          "output_type": "execute_result",
          "data": {
            "text/plain": [
              "tensor([[[0.4907, 0.0277, 0.7667],\n",
              "         [0.3673, 0.2103, 0.6818]],\n",
              "\n",
              "        [[0.2130, 0.5662, 0.2269],\n",
              "         [0.1770, 0.1292, 0.1953]],\n",
              "\n",
              "        [[0.4603, 0.3503, 0.7555],\n",
              "         [0.2966, 0.1719, 0.9991]],\n",
              "\n",
              "        [[0.1386, 0.6555, 0.6458],\n",
              "         [0.9925, 0.9127, 0.1133]]])"
            ]
          },
          "metadata": {},
          "execution_count": 111
        }
      ]
    },
    {
      "cell_type": "code",
      "source": [
        "s.permute(2,0,1).shape"
      ],
      "metadata": {
        "colab": {
          "base_uri": "https://localhost:8080/"
        },
        "id": "MYDkdQY1FLnU",
        "outputId": "df9c188c-bc03-45fd-dab4-7b04f88cbf71"
      },
      "execution_count": null,
      "outputs": [
        {
          "output_type": "execute_result",
          "data": {
            "text/plain": [
              "torch.Size([4, 2, 3])"
            ]
          },
          "metadata": {},
          "execution_count": 112
        }
      ]
    },
    {
      "cell_type": "markdown",
      "source": [
        "The .unsqueeze() function in PyTorch adds a dimension of size 1 at the specified position in the tensor's shape.\n",
        "\n",
        "This is commonly done to add a batch dimension. Many models expect input in the shape (batch_size, height, width, channels) (or sometimes (batch_size, channels, height, width) depending on the framework), even if you're passing just one image."
      ],
      "metadata": {
        "id": "XTfghKJPG2AG"
      }
    },
    {
      "cell_type": "code",
      "source": [
        "# unsqeeze\n",
        "\n",
        "# typical image size\n",
        "t = torch.rand(226,226,3)\n",
        "\n",
        "t.unsqueeze(0).shape"
      ],
      "metadata": {
        "colab": {
          "base_uri": "https://localhost:8080/"
        },
        "id": "L6qd2d96FTrJ",
        "outputId": "b5187283-2fbf-44f7-dd75-f407bef0df60"
      },
      "execution_count": null,
      "outputs": [
        {
          "output_type": "execute_result",
          "data": {
            "text/plain": [
              "torch.Size([1, 226, 226, 3])"
            ]
          },
          "metadata": {},
          "execution_count": 114
        }
      ]
    },
    {
      "cell_type": "code",
      "source": [
        "# squeeze\n",
        "\n",
        "u = torch.rand(1,20)\n",
        "u"
      ],
      "metadata": {
        "colab": {
          "base_uri": "https://localhost:8080/"
        },
        "id": "MHHcb6AfGOUk",
        "outputId": "e7b1e2c9-b977-47d8-d8b0-d2d86aa526c1"
      },
      "execution_count": null,
      "outputs": [
        {
          "output_type": "execute_result",
          "data": {
            "text/plain": [
              "tensor([[0.6867, 0.4318, 0.0188, 0.1314, 0.3670, 0.0546, 0.9839, 0.6308, 0.6006,\n",
              "         0.0024, 0.4524, 0.0113, 0.7392, 0.6449, 0.4497, 0.7156, 0.5628, 0.8409,\n",
              "         0.0865, 0.0522]])"
            ]
          },
          "metadata": {},
          "execution_count": 116
        }
      ]
    },
    {
      "cell_type": "markdown",
      "source": [
        "squeeze() is the opposite of unsqueeze() — it removes dimensions of size 1 from a tensor's shape."
      ],
      "metadata": {
        "id": "S3S1uPS5HnPn"
      }
    },
    {
      "cell_type": "code",
      "source": [
        "u.squeeze(0).shape"
      ],
      "metadata": {
        "colab": {
          "base_uri": "https://localhost:8080/"
        },
        "id": "FufHNAcCHUBf",
        "outputId": "a3c7b171-67cd-462b-af8d-80b276f40390"
      },
      "execution_count": null,
      "outputs": [
        {
          "output_type": "execute_result",
          "data": {
            "text/plain": [
              "torch.Size([20])"
            ]
          },
          "metadata": {},
          "execution_count": 119
        }
      ]
    },
    {
      "cell_type": "markdown",
      "source": [
        "# NumPy and PyTorch"
      ],
      "metadata": {
        "id": "W7QZYqjpIIDI"
      }
    },
    {
      "cell_type": "code",
      "source": [
        "import numpy as np"
      ],
      "metadata": {
        "id": "6BdEH4vwHY7d"
      },
      "execution_count": null,
      "outputs": []
    },
    {
      "cell_type": "code",
      "source": [
        "v = torch.tensor([1,2,3])\n",
        "v"
      ],
      "metadata": {
        "colab": {
          "base_uri": "https://localhost:8080/"
        },
        "id": "MPdsu6R1IMiR",
        "outputId": "8a0863f5-627f-44fc-9d1f-263cc238514c"
      },
      "execution_count": null,
      "outputs": [
        {
          "output_type": "execute_result",
          "data": {
            "text/plain": [
              "tensor([1, 2, 3])"
            ]
          },
          "metadata": {},
          "execution_count": 121
        }
      ]
    },
    {
      "cell_type": "code",
      "source": [
        "w = v.numpy() # converting tensor to numpy\n",
        "w"
      ],
      "metadata": {
        "colab": {
          "base_uri": "https://localhost:8080/"
        },
        "id": "ta-yAG81IRau",
        "outputId": "48ca31bf-5402-4ddd-ca4e-cc16a09a5af1"
      },
      "execution_count": null,
      "outputs": [
        {
          "output_type": "execute_result",
          "data": {
            "text/plain": [
              "array([1, 2, 3])"
            ]
          },
          "metadata": {},
          "execution_count": 124
        }
      ]
    },
    {
      "cell_type": "code",
      "source": [
        "type(w)"
      ],
      "metadata": {
        "colab": {
          "base_uri": "https://localhost:8080/"
        },
        "id": "xTn-GXJ6IUNd",
        "outputId": "7d205bf8-7fee-487d-cb62-9b72578b1167"
      },
      "execution_count": null,
      "outputs": [
        {
          "output_type": "execute_result",
          "data": {
            "text/plain": [
              "numpy.ndarray"
            ]
          },
          "metadata": {},
          "execution_count": 125
        }
      ]
    },
    {
      "cell_type": "code",
      "source": [
        "x = np.array([4,5,6]) # creating a numpy array\n",
        "x"
      ],
      "metadata": {
        "colab": {
          "base_uri": "https://localhost:8080/"
        },
        "id": "xWoO9_B8IZZk",
        "outputId": "bb7b7469-a32d-4295-c02d-3913a5112be0"
      },
      "execution_count": null,
      "outputs": [
        {
          "output_type": "execute_result",
          "data": {
            "text/plain": [
              "array([4, 5, 6])"
            ]
          },
          "metadata": {},
          "execution_count": 127
        }
      ]
    },
    {
      "cell_type": "code",
      "source": [
        "torch.from_numpy(x) # convering numpy array to pytorch tensor"
      ],
      "metadata": {
        "colab": {
          "base_uri": "https://localhost:8080/"
        },
        "id": "wWdXO7cQIsK4",
        "outputId": "3d4c6e98-f2d1-4c65-d0c1-e85171ee01c3"
      },
      "execution_count": null,
      "outputs": [
        {
          "output_type": "execute_result",
          "data": {
            "text/plain": [
              "tensor([4, 5, 6])"
            ]
          },
          "metadata": {},
          "execution_count": 129
        }
      ]
    },
    {
      "cell_type": "code",
      "source": [],
      "metadata": {
        "id": "_yHd74P9IwmT"
      },
      "execution_count": null,
      "outputs": []
    }
  ]
}