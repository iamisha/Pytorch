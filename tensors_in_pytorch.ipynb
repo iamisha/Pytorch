{
 "cells": [
  {
   "cell_type": "markdown",
   "metadata": {
    "id": "9Q5QqlWFWyVt"
   },
   "source": [
    "### D-4\n",
    "\n"
   ]
  },
  {
   "cell_type": "code",
   "execution_count": null,
   "metadata": {
    "colab": {
     "base_uri": "https://localhost:8080/"
    },
    "id": "DDivnkQ4QSEi",
    "outputId": "00c2f387-6129-4089-c2d1-a690e661c444"
   },
   "outputs": [],
   "source": [
    "import torch\n",
    "print(torch.__version__)"
   ]
  },
  {
   "cell_type": "code",
   "execution_count": null,
   "metadata": {
    "colab": {
     "base_uri": "https://localhost:8080/"
    },
    "id": "ySiSJpA9QX5S",
    "outputId": "2a012faa-68d3-4602-e00b-93faceb41203"
   },
   "outputs": [],
   "source": [
    "if torch.cuda.is_available():\n",
    "  print('GPU is available')\n",
    "  print(f'You are using: ',torch.cuda.get_device_name(0))\n",
    "else:\n",
    "  print('GPU is not available')"
   ]
  },
  {
   "cell_type": "markdown",
   "metadata": {
    "id": "2h9_lTDqSK-e"
   },
   "source": [
    "## Creating Tenosr"
   ]
  },
  {
   "cell_type": "code",
   "execution_count": null,
   "metadata": {
    "colab": {
     "base_uri": "https://localhost:8080/"
    },
    "id": "Nylh63KvQ2hx",
    "outputId": "080d3a41-531f-4f1e-a7da-615ab917265a"
   },
   "outputs": [],
   "source": [
    "# Using empty\n",
    "a = torch.empty(2,3)\n",
    "torch.empty(3,2)"
   ]
  },
  {
   "cell_type": "code",
   "execution_count": null,
   "metadata": {
    "colab": {
     "base_uri": "https://localhost:8080/"
    },
    "id": "jk2NH_7_SRTb",
    "outputId": "5469653c-5243-4443-f162-2546445a68c4"
   },
   "outputs": [],
   "source": [
    "# check type\n",
    "type(a)"
   ]
  },
  {
   "cell_type": "code",
   "execution_count": null,
   "metadata": {
    "colab": {
     "base_uri": "https://localhost:8080/"
    },
    "id": "33Iox-uFSXn3",
    "outputId": "c6f45088-4826-41d8-a4b4-2c89a5eab06c"
   },
   "outputs": [],
   "source": [
    "# Using zeros\n",
    "torch.zeros(2,3)"
   ]
  },
  {
   "cell_type": "code",
   "execution_count": null,
   "metadata": {
    "colab": {
     "base_uri": "https://localhost:8080/"
    },
    "id": "vCy2jktPSs8m",
    "outputId": "3e70a4d4-4ec3-46ae-ab29-2dbc1e69c9e0"
   },
   "outputs": [],
   "source": [
    "# Using ones\n",
    "torch.ones(2,3)"
   ]
  },
  {
   "cell_type": "code",
   "execution_count": null,
   "metadata": {
    "colab": {
     "base_uri": "https://localhost:8080/"
    },
    "id": "cNekHNUzSwA1",
    "outputId": "2b0bd6a6-d701-48bf-87a0-406c8b940abe"
   },
   "outputs": [],
   "source": [
    "# Using rand\n",
    "torch.rand(2,3)"
   ]
  },
  {
   "cell_type": "code",
   "execution_count": null,
   "metadata": {
    "colab": {
     "base_uri": "https://localhost:8080/"
    },
    "id": "_fYypKfySyCS",
    "outputId": "c81038fc-7a8f-4844-b9d5-d764afc53f21"
   },
   "outputs": [],
   "source": [
    "# Use of seed\n",
    "torch.rand(2,3) # it gets random values each time you run"
   ]
  },
  {
   "cell_type": "code",
   "execution_count": null,
   "metadata": {
    "colab": {
     "base_uri": "https://localhost:8080/"
    },
    "id": "uILWRE-aTVYS",
    "outputId": "6a45bcab-062b-4f12-cec9-bac2f6df6d6c"
   },
   "outputs": [],
   "source": [
    "# manual seed gives same values of rand each time you run the cell\n",
    "torch.manual_seed(100)\n",
    "torch.rand(2,3)"
   ]
  },
  {
   "cell_type": "code",
   "execution_count": null,
   "metadata": {
    "colab": {
     "base_uri": "https://localhost:8080/"
    },
    "id": "-5kfHg92Td47",
    "outputId": "8714c547-1cbd-4a41-dbd7-fd06a0886731"
   },
   "outputs": [],
   "source": [
    "torch.manual_seed(100)\n",
    "torch.rand(2,3)"
   ]
  },
  {
   "cell_type": "code",
   "execution_count": null,
   "metadata": {
    "colab": {
     "base_uri": "https://localhost:8080/"
    },
    "id": "OQw6h7CoTgYl",
    "outputId": "bc261148-43b8-48a2-cf14-6ed8d75bae1a"
   },
   "outputs": [],
   "source": [
    "# Using tensor\n",
    "torch.tensor([(1,2),[3,4]])"
   ]
  },
  {
   "cell_type": "code",
   "execution_count": null,
   "metadata": {
    "colab": {
     "base_uri": "https://localhost:8080/"
    },
    "id": "ND7zSHRhT4wO",
    "outputId": "7fafedf3-8502-456c-b8d0-b650da7ef4c8"
   },
   "outputs": [],
   "source": [
    "# Other ways\n",
    "\n",
    "print(f'using arange: ', torch.arange(0,10,2))\n",
    "\n",
    "print(f'using linspace: ', torch.linspace(0,10,5))\n",
    "\n",
    "print(f'Using eye: ', torch.eye(5))\n",
    "\n",
    "\n",
    "print(f'Using full: ', torch.full((3,2),3))\n"
   ]
  },
  {
   "cell_type": "markdown",
   "metadata": {
    "id": "_wRamLveWKmg"
   },
   "source": [
    "# Tensor Shapes"
   ]
  },
  {
   "cell_type": "code",
   "execution_count": null,
   "metadata": {
    "id": "BAcdkG7iUrhQ"
   },
   "outputs": [],
   "source": [
    "x = torch.tensor([[1,2,3],[4,5,6]])"
   ]
  },
  {
   "cell_type": "code",
   "execution_count": null,
   "metadata": {
    "colab": {
     "base_uri": "https://localhost:8080/"
    },
    "id": "stIC6vcYrSm4",
    "outputId": "0180280e-af0a-4dc6-9735-135f8805f520"
   },
   "outputs": [],
   "source": [
    "x.shape"
   ]
  },
  {
   "cell_type": "code",
   "execution_count": null,
   "metadata": {
    "colab": {
     "base_uri": "https://localhost:8080/"
    },
    "id": "Q5RFnCNfrTyZ",
    "outputId": "082d16bc-5de1-498c-c929-bbb4a3d2d701"
   },
   "outputs": [],
   "source": [
    "# create the tensors of same size\n",
    "torch.empty_like(x)\n",
    "\n",
    "torch.zeros_like(x)"
   ]
  },
  {
   "cell_type": "code",
   "execution_count": null,
   "metadata": {
    "colab": {
     "base_uri": "https://localhost:8080/",
     "height": 141
    },
    "id": "Z9SDAgQqsDOg",
    "outputId": "59b46379-b84c-40b6-db1a-ae7cf4d2212f"
   },
   "outputs": [],
   "source": [
    "torch.rand_like(x)"
   ]
  },
  {
   "cell_type": "code",
   "execution_count": null,
   "metadata": {
    "colab": {
     "base_uri": "https://localhost:8080/"
    },
    "id": "aXI48dE4xNWN",
    "outputId": "f3d0604c-4e86-42f8-b9f6-7365743e5c26"
   },
   "outputs": [],
   "source": [
    "torch.rand_like(x, dtype=torch.float32)"
   ]
  },
  {
   "cell_type": "markdown",
   "metadata": {
    "id": "Y3RKM1kWuqKH"
   },
   "source": [
    "# Tensor Data Types"
   ]
  },
  {
   "cell_type": "code",
   "execution_count": null,
   "metadata": {
    "colab": {
     "base_uri": "https://localhost:8080/"
    },
    "id": "KovM1iRuupLz",
    "outputId": "6ed8901d-8730-4294-e6e6-a522a6416726"
   },
   "outputs": [],
   "source": [
    "# find data type\n",
    "x.dtype"
   ]
  },
  {
   "cell_type": "code",
   "execution_count": null,
   "metadata": {
    "colab": {
     "base_uri": "https://localhost:8080/"
    },
    "id": "i3EbBHSlu1P7",
    "outputId": "42dce805-1413-443b-d67e-56de465894cf"
   },
   "outputs": [],
   "source": [
    "# assign data type\n",
    "torch.tensor([1.0,2.0,3.0],  dtype=torch.int32)"
   ]
  },
  {
   "cell_type": "code",
   "execution_count": null,
   "metadata": {
    "colab": {
     "base_uri": "https://localhost:8080/"
    },
    "id": "4QGy3wGPvRVN",
    "outputId": "0540bb73-48db-4eae-9c33-1cd7122e0278"
   },
   "outputs": [],
   "source": [
    "torch.tensor([1,2,3],  dtype=torch.float64)"
   ]
  },
  {
   "cell_type": "code",
   "execution_count": null,
   "metadata": {
    "colab": {
     "base_uri": "https://localhost:8080/"
    },
    "id": "wsjuThEjwbOw",
    "outputId": "5ee2ca16-f005-45a6-85c1-c3140f2ecdf3"
   },
   "outputs": [],
   "source": [
    "# using to() method\n",
    "x.to(torch.float32)"
   ]
  },
  {
   "cell_type": "markdown",
   "metadata": {
    "id": "8CXC4NOLxjvr"
   },
   "source": [
    "| **Data Type**               | **Dtype**           | **Description**                                                                 |\n",
    "|----------------------------|---------------------|---------------------------------------------------------------------------------|\n",
    "| 32-bit Floating Point       | `torch.float32`     | Standard floating-point type used for most deep learning tasks.                |\n",
    "| 64-bit Floating Point       | `torch.float64`     | Double-precision floating point. Higher precision, more memory.                |\n",
    "| 16-bit Floating Point       | `torch.float16`     | Half-precision float. Reduces memory/computation in mixed-precision training.  |\n",
    "| BFloat16                    | `torch.bfloat16`    | Reduced precision float for mixed-precision, common on TPUs.                   |\n",
    "| 8-bit Floating Point        | `torch.float8`      | Ultra-low-precision float. Experimental, for extreme memory limits.            |\n",
    "| 8-bit Integer               | `torch.int8`        | Signed 8-bit integer. Used in quantized inference models.                      |\n",
    "| 16-bit Integer              | `torch.int16`       | Signed 16-bit integer. Intermediate numerical precision.                       |\n",
    "| 32-bit Integer              | `torch.int32`       | Standard integer for indexing/general numerical tasks.                         |\n",
    "| 64-bit Integer              | `torch.int64`       | Long integer. Suitable for large numbers/indices.                              |\n",
    "| 8-bit Unsigned Integer      | `torch.uint8`       | Unsigned 8-bit. Common for image pixel values (0–255).                         |\n",
    "| Boolean                     | `torch.bool`        | Boolean type (`True`/`False`). Used in masking and logical ops.                |\n",
    "| Complex 64                  | `torch.complex64`   | Complex type with 32-bit real & imaginary parts. Used in scientific computing. |\n",
    "| Complex 128                 | `torch.complex128`  | Complex type with 64-bit real & imaginary parts. High precision.               |\n",
    "| Quantized Integer           | `torch.qint8`       | Quantized signed 8-bit integer. Efficient for inference.                       |\n",
    "| Quantized Unsigned Integer  | `torch.quint8`      | Quantized unsigned 8-bit. Used in image-related quantized models.              |"
   ]
  },
  {
   "cell_type": "markdown",
   "metadata": {
    "id": "oXdDxG1tyb5L"
   },
   "source": [
    "# Mathematical Operation\n"
   ]
  },
  {
   "cell_type": "code",
   "execution_count": null,
   "metadata": {
    "colab": {
     "base_uri": "https://localhost:8080/"
    },
    "id": "8tfUMc1iwrNR",
    "outputId": "8c9189f6-946a-45a7-dbee-ebccfd2ce417"
   },
   "outputs": [],
   "source": [
    "y = torch.rand(2,2)\n",
    "y"
   ]
  },
  {
   "cell_type": "code",
   "execution_count": null,
   "metadata": {
    "colab": {
     "base_uri": "https://localhost:8080/"
    },
    "id": "u2iS459Gyhll",
    "outputId": "57110b1b-9b28-4cc3-e094-0298d7267e75"
   },
   "outputs": [],
   "source": [
    "# Scalar operations\n",
    "\n",
    "# addition\n",
    "y + 2\n",
    "\n",
    "# substraction\n",
    "y - 2\n",
    "\n",
    "# division\n",
    "y/2\n",
    "\n",
    "# int division\n",
    "(50 * y)//2\n",
    "\n",
    "# modular division\n",
    "y % 2\n",
    "\n",
    "# power\n",
    "y ** 2"
   ]
  },
  {
   "cell_type": "markdown",
   "metadata": {
    "id": "xNXSdGau0M_n"
   },
   "source": [
    "# Elementwise Operation"
   ]
  },
  {
   "cell_type": "code",
   "execution_count": null,
   "metadata": {
    "colab": {
     "base_uri": "https://localhost:8080/"
    },
    "id": "CBJlpR6HzAjK",
    "outputId": "792a2131-278e-400c-c651-c1e15ca0d189"
   },
   "outputs": [],
   "source": [
    "a = torch.rand(2,3)\n",
    "b = torch.rand(2,3)\n",
    "\n",
    "print(a)\n",
    "print(b)"
   ]
  },
  {
   "cell_type": "code",
   "execution_count": null,
   "metadata": {
    "colab": {
     "base_uri": "https://localhost:8080/"
    },
    "id": "YNDKqnkC0WCM",
    "outputId": "4a6a64e7-6c84-4e8e-9ee7-58cfb5a89213"
   },
   "outputs": [],
   "source": [
    "# add\n",
    "a + b\n",
    "\n",
    "# substract\n",
    "a - b\n",
    "\n",
    "# mul\n",
    "a * b\n",
    "\n",
    "# div\n",
    "a / b\n",
    "\n",
    "# mod\n",
    "a % b\n",
    "\n",
    "# power\n",
    "a ** b"
   ]
  },
  {
   "cell_type": "markdown",
   "metadata": {
    "id": "yEuuMiqB1Df2"
   },
   "source": [
    "## Single Tensor Elementwise Operation"
   ]
  },
  {
   "cell_type": "code",
   "execution_count": null,
   "metadata": {
    "colab": {
     "base_uri": "https://localhost:8080/"
    },
    "id": "si1B04490dli",
    "outputId": "a3d306c1-0d9d-46bd-c0d4-3880dbe680bc"
   },
   "outputs": [],
   "source": [
    "c = torch.tensor([1, -2, 3, -4])\n",
    "c"
   ]
  },
  {
   "cell_type": "code",
   "execution_count": null,
   "metadata": {
    "colab": {
     "base_uri": "https://localhost:8080/"
    },
    "id": "gbRXgzu_1OX5",
    "outputId": "853c8b61-d7be-4849-ca9e-c26ef6e396d2"
   },
   "outputs": [],
   "source": [
    "# abs\n",
    "torch.abs(c)\n",
    "\n",
    "# neg\n",
    "torch.neg(c)"
   ]
  },
  {
   "cell_type": "code",
   "execution_count": null,
   "metadata": {
    "id": "gZFND_KG1Qom"
   },
   "outputs": [],
   "source": [
    "d = torch.tensor([1.9, 2.3, 3.7, 4.4])"
   ]
  },
  {
   "cell_type": "code",
   "execution_count": null,
   "metadata": {
    "colab": {
     "base_uri": "https://localhost:8080/"
    },
    "id": "3hfAjwi62Wlg",
    "outputId": "de14ce58-01b2-4793-c357-fa16425fd6e8"
   },
   "outputs": [],
   "source": [
    "# round\n",
    "torch.round(d)\n",
    "\n",
    "# ceil\n",
    "torch.ceil(d)\n",
    "\n",
    "# floor\n",
    "torch.floor(d)\n",
    "\n",
    "# clamp\n",
    "torch.clamp(d, min=3, max=4)"
   ]
  },
  {
   "cell_type": "markdown",
   "metadata": {
    "id": "hPU3DpOG6nyJ"
   },
   "source": [
    "## Reduction Operation"
   ]
  },
  {
   "cell_type": "code",
   "execution_count": null,
   "metadata": {
    "colab": {
     "base_uri": "https://localhost:8080/"
    },
    "id": "ASzReENI2kHm",
    "outputId": "a529f15e-efa7-4ba3-fe91-03a91fa2d993"
   },
   "outputs": [],
   "source": [
    "e = torch.randint(size =(2,3), low=0, high=20, dtype=torch.float32)\n",
    "e"
   ]
  },
  {
   "cell_type": "code",
   "execution_count": null,
   "metadata": {
    "colab": {
     "base_uri": "https://localhost:8080/"
    },
    "id": "J4U-POW4659R",
    "outputId": "3ccff26f-6f8e-42f1-e110-7201db6c4119"
   },
   "outputs": [],
   "source": [
    "# sum\n",
    "torch.sum(e)\n",
    "\n",
    "# sum columnwise\n",
    "torch.sum(e, dim=0)\n",
    "\n",
    "# sum rowwise\n",
    "torch.sum(e, dim=1)"
   ]
  },
  {
   "cell_type": "code",
   "execution_count": null,
   "metadata": {
    "colab": {
     "base_uri": "https://localhost:8080/"
    },
    "id": "yxSiTxlq7BqP",
    "outputId": "90b26957-be75-4d13-ae72-00bb3f229ce1"
   },
   "outputs": [],
   "source": [
    "# mean\n",
    "torch.mean(e)\n",
    "\n",
    "# mean, columnwise\n",
    "torch.mean(e, dim=0)\n",
    "\n",
    "# mean, rowwise\n",
    "torch.mean(e, dim=1)"
   ]
  },
  {
   "cell_type": "code",
   "execution_count": null,
   "metadata": {
    "colab": {
     "base_uri": "https://localhost:8080/"
    },
    "id": "gvm76b7k7ibl",
    "outputId": "fb0be357-a3e5-489e-b076-64be5d71a6d5"
   },
   "outputs": [],
   "source": [
    "# median\n",
    "torch.median(e)"
   ]
  },
  {
   "cell_type": "code",
   "execution_count": null,
   "metadata": {
    "colab": {
     "base_uri": "https://localhost:8080/"
    },
    "id": "kszKumFj8TBP",
    "outputId": "20ff6f1d-2d33-4b35-d423-25b78b0a11b3"
   },
   "outputs": [],
   "source": [
    "# min and max\n",
    "torch.min(e)\n",
    "torch.max(e)"
   ]
  },
  {
   "cell_type": "code",
   "execution_count": null,
   "metadata": {
    "colab": {
     "base_uri": "https://localhost:8080/"
    },
    "id": "FgOybkTI8YvM",
    "outputId": "df26d62b-cc46-4528-e463-4e993e2280d0"
   },
   "outputs": [],
   "source": [
    "# product\n",
    "torch.prod(e)"
   ]
  },
  {
   "cell_type": "code",
   "execution_count": null,
   "metadata": {
    "colab": {
     "base_uri": "https://localhost:8080/"
    },
    "id": "FwJPNc-R8feF",
    "outputId": "56d18d2f-c0b7-4934-d857-0cc1ca5bffae"
   },
   "outputs": [],
   "source": [
    "# standard deviation\n",
    "torch.std(e)"
   ]
  },
  {
   "cell_type": "code",
   "execution_count": null,
   "metadata": {
    "colab": {
     "base_uri": "https://localhost:8080/"
    },
    "id": "-Mj-OBy98jQm",
    "outputId": "b917c734-007e-410e-f9ea-d490805911ed"
   },
   "outputs": [],
   "source": [
    "# variance\n",
    "torch.var(e)"
   ]
  },
  {
   "cell_type": "code",
   "execution_count": null,
   "metadata": {
    "colab": {
     "base_uri": "https://localhost:8080/"
    },
    "id": "iRJxikyj8xPx",
    "outputId": "fafaeedc-44f6-496a-e09b-be86f0368436"
   },
   "outputs": [],
   "source": [
    "# argmax\n",
    "torch.argmax(e)"
   ]
  },
  {
   "cell_type": "code",
   "execution_count": null,
   "metadata": {
    "colab": {
     "base_uri": "https://localhost:8080/"
    },
    "id": "PZSGJo7n80vm",
    "outputId": "8857a451-eff4-49aa-9418-e9ff44397f6e"
   },
   "outputs": [],
   "source": [
    "# argmin\n",
    "torch.argmin(e)"
   ]
  },
  {
   "cell_type": "markdown",
   "metadata": {
    "id": "lNavkNuO9P3_"
   },
   "source": [
    "## Matrix Operation\n",
    "\n"
   ]
  },
  {
   "cell_type": "code",
   "execution_count": null,
   "metadata": {
    "colab": {
     "base_uri": "https://localhost:8080/"
    },
    "id": "uaINy6Dj87az",
    "outputId": "c00a4182-6966-40d5-c396-a54d2b79b83b"
   },
   "outputs": [],
   "source": [
    "f = torch.randint(size =(2,3), low=0, high=20)\n",
    "g = torch.randint(size =(3,2), low=0, high=20)\n",
    "\n",
    "print(f)\n",
    "print(g)"
   ]
  },
  {
   "cell_type": "code",
   "execution_count": null,
   "metadata": {
    "colab": {
     "base_uri": "https://localhost:8080/"
    },
    "id": "_CY0MwvW9Yoq",
    "outputId": "b3640ac8-e6d6-42ef-ce2c-b0fdc75a6714"
   },
   "outputs": [],
   "source": [
    "# matrix multiplication\n",
    "torch.matmul(f,g)"
   ]
  },
  {
   "cell_type": "code",
   "execution_count": null,
   "metadata": {
    "colab": {
     "base_uri": "https://localhost:8080/"
    },
    "id": "KCPeSgKg9jJs",
    "outputId": "079120b9-4701-462b-c46a-ae67cfbf11bd"
   },
   "outputs": [],
   "source": [
    "# dot product\n",
    "\n",
    "vec1 = torch.tensor([1,2])\n",
    "vec2 = torch.tensor([3,4])\n",
    "\n",
    "torch.dot(vec1, vec2)\n",
    "\n"
   ]
  },
  {
   "cell_type": "code",
   "execution_count": null,
   "metadata": {
    "colab": {
     "base_uri": "https://localhost:8080/"
    },
    "id": "Au0UNo69_m6l",
    "outputId": "ea89eed5-4711-45df-d714-2df00a13e728"
   },
   "outputs": [],
   "source": [
    "f"
   ]
  },
  {
   "cell_type": "code",
   "execution_count": null,
   "metadata": {
    "colab": {
     "base_uri": "https://localhost:8080/"
    },
    "id": "6vekjibW_aQk",
    "outputId": "413511ee-bc28-4c02-fca6-45733b7c947e"
   },
   "outputs": [],
   "source": [
    "# transpose\n",
    "torch.transpose(f,0,1)"
   ]
  },
  {
   "cell_type": "code",
   "execution_count": null,
   "metadata": {
    "colab": {
     "base_uri": "https://localhost:8080/"
    },
    "id": "JKbzDj_4_zsv",
    "outputId": "2da6c2e0-936b-45de-c123-9e64caf7c14b"
   },
   "outputs": [],
   "source": [
    "h = torch.randint(size = (3,3), low=0, high=10, dtype=torch.float32)\n",
    "h"
   ]
  },
  {
   "cell_type": "code",
   "execution_count": null,
   "metadata": {
    "colab": {
     "base_uri": "https://localhost:8080/"
    },
    "id": "7vHmDHom-tS0",
    "outputId": "2a5533dd-6ba9-45d6-a671-41e08456dc6e"
   },
   "outputs": [],
   "source": [
    "# determinant\n",
    "torch.det(h)"
   ]
  },
  {
   "cell_type": "code",
   "execution_count": null,
   "metadata": {
    "colab": {
     "base_uri": "https://localhost:8080/"
    },
    "id": "9lW2MSc1AUDW",
    "outputId": "bdb16d11-dbb2-45d8-c66c-17045d4d7c7b"
   },
   "outputs": [],
   "source": [
    "# inverse\n",
    "torch.inverse(h)"
   ]
  },
  {
   "cell_type": "markdown",
   "metadata": {
    "id": "HsMZoDs3BNFE"
   },
   "source": [
    "## Comparision Operation"
   ]
  },
  {
   "cell_type": "code",
   "execution_count": null,
   "metadata": {
    "colab": {
     "base_uri": "https://localhost:8080/"
    },
    "id": "G02HddwpAoS5",
    "outputId": "52673b15-00be-46f6-eb36-ae36f3ef737a"
   },
   "outputs": [],
   "source": [
    "i = torch.randint(size=(2,3), low=0, high=10)\n",
    "j = torch.randint(size=(2,3), low=0, high=10)\n",
    "\n",
    "print(i)\n",
    "print(j)"
   ]
  },
  {
   "cell_type": "code",
   "execution_count": null,
   "metadata": {
    "colab": {
     "base_uri": "https://localhost:8080/"
    },
    "id": "dhMQ9Z0WBWQN",
    "outputId": "b94a421b-a7a4-4cbd-a284-122aac97c22c"
   },
   "outputs": [],
   "source": [
    "# greater than\n",
    "i > j\n",
    "\n",
    "# less than\n",
    "i < j\n",
    "\n",
    "# equal to\n",
    "i == j\n",
    "\n",
    "# not equal to\n",
    "i != j\n",
    "\n",
    "# greater than equal to\n",
    "\n",
    "# less than equal to"
   ]
  },
  {
   "cell_type": "markdown",
   "metadata": {
    "id": "8Nrn0izdB178"
   },
   "source": [
    "## Special Functions"
   ]
  },
  {
   "cell_type": "code",
   "execution_count": null,
   "metadata": {
    "colab": {
     "base_uri": "https://localhost:8080/"
    },
    "id": "V6kp98Ye8YJy",
    "outputId": "7a10b95c-e658-4769-cb25-c8e76dc52e2a"
   },
   "outputs": [],
   "source": [
    "k = torch.randint(size = (2,3), low=0, high=10, dtype=torch.float32)\n",
    "k"
   ]
  },
  {
   "cell_type": "code",
   "execution_count": null,
   "metadata": {
    "colab": {
     "base_uri": "https://localhost:8080/"
    },
    "id": "9-C-3mDKBaU7",
    "outputId": "8e69fe11-94ab-48ca-ebd9-1ae6dccc3557"
   },
   "outputs": [],
   "source": [
    "# log\n",
    "torch.log(k)\n"
   ]
  },
  {
   "cell_type": "code",
   "execution_count": null,
   "metadata": {
    "colab": {
     "base_uri": "https://localhost:8080/"
    },
    "id": "2OiuwcxY8haa",
    "outputId": "8b6b7684-30cd-4e4d-ce9d-9cdb0ecfd4e5"
   },
   "outputs": [],
   "source": [
    "# exp\n",
    "torch.exp(k)"
   ]
  },
  {
   "cell_type": "code",
   "execution_count": null,
   "metadata": {
    "colab": {
     "base_uri": "https://localhost:8080/"
    },
    "id": "8rQMxYnc8ld1",
    "outputId": "84f79811-e87d-4bca-d72f-8202207aa9f3"
   },
   "outputs": [],
   "source": [
    "# sqrt\n",
    "torch.sqrt(k)"
   ]
  },
  {
   "cell_type": "code",
   "execution_count": null,
   "metadata": {
    "colab": {
     "base_uri": "https://localhost:8080/"
    },
    "id": "THYp08O_8n_E",
    "outputId": "f72f1223-12b2-4326-963b-795bd701325d"
   },
   "outputs": [],
   "source": [
    "# sigmoid\n",
    "torch.sigmoid(k)"
   ]
  },
  {
   "cell_type": "code",
   "execution_count": null,
   "metadata": {
    "colab": {
     "base_uri": "https://localhost:8080/"
    },
    "id": "UfEAiIwf8v1J",
    "outputId": "be04efe5-b336-406d-842f-203b629f6a3b"
   },
   "outputs": [],
   "source": [
    "# softmax\n",
    "torch.softmax(k, dim=0)"
   ]
  },
  {
   "cell_type": "code",
   "execution_count": null,
   "metadata": {
    "colab": {
     "base_uri": "https://localhost:8080/"
    },
    "id": "XHATF6mL8zBS",
    "outputId": "af4022fe-99f0-4c82-94e9-a478b8a63901"
   },
   "outputs": [],
   "source": [
    "# relu\n",
    "torch.relu(k)"
   ]
  },
  {
   "cell_type": "markdown",
   "metadata": {
    "id": "2ylpwHZ_95xc"
   },
   "source": [
    "## Inplace Operations\n",
    "\n",
    "\n",
    "---\n",
    "\n",
    "In PyTorch, an in-place operation directly modifies the content of a tensor without creating a new one. In-place operations are typically indicated by a trailing underscore (_) in the method name (e.g., add_(), relu_(), etc.).\n",
    "\n"
   ]
  },
  {
   "cell_type": "code",
   "execution_count": null,
   "metadata": {
    "colab": {
     "base_uri": "https://localhost:8080/"
    },
    "id": "7NM35_9k9M06",
    "outputId": "df0bbe9c-ec8d-401a-8841-cf213820fc0b"
   },
   "outputs": [],
   "source": [
    "m = torch.rand(2,3)\n",
    "n = torch.rand(2,3)\n",
    "\n",
    "print(m)\n",
    "print(n)"
   ]
  },
  {
   "cell_type": "code",
   "execution_count": null,
   "metadata": {
    "colab": {
     "base_uri": "https://localhost:8080/"
    },
    "id": "FeRV7GAv-HB4",
    "outputId": "ce0b74b9-a6b8-4f72-cd3d-5989e80489cb"
   },
   "outputs": [],
   "source": [
    "m.add_(n) # m + n stores the result in a new address, occupying more memory, so we use m.add_(n) instead"
   ]
  },
  {
   "cell_type": "code",
   "execution_count": null,
   "metadata": {
    "colab": {
     "base_uri": "https://localhost:8080/"
    },
    "id": "tiAjkgbA-Jxy",
    "outputId": "6c013745-be1e-4972-a322-cb05d8263ef1"
   },
   "outputs": [],
   "source": [
    "m"
   ]
  },
  {
   "cell_type": "code",
   "execution_count": null,
   "metadata": {
    "colab": {
     "base_uri": "https://localhost:8080/"
    },
    "id": "SfTkQeMM-Ldu",
    "outputId": "b94f0052-ae6c-43e8-a8c8-06e050e9689d"
   },
   "outputs": [],
   "source": [
    "n"
   ]
  },
  {
   "cell_type": "code",
   "execution_count": null,
   "metadata": {
    "colab": {
     "base_uri": "https://localhost:8080/"
    },
    "id": "Aet5WDuX-NBb",
    "outputId": "a9d236d6-03ea-4953-cf65-2ce8f279836a"
   },
   "outputs": [],
   "source": [
    "torch.relu(m) # creates a new tensor and leaves m unchanged"
   ]
  },
  {
   "cell_type": "code",
   "execution_count": null,
   "metadata": {
    "colab": {
     "base_uri": "https://localhost:8080/"
    },
    "id": "_4iL-bCn_U71",
    "outputId": "aae836e5-7d21-4db9-bece-056a01053000"
   },
   "outputs": [],
   "source": [
    "m.relu_() # modifies m in place, replacing negative values with zero directly in m."
   ]
  },
  {
   "cell_type": "markdown",
   "metadata": {
    "id": "gB5aceFVAU3B"
   },
   "source": [
    "## Copying a Tensor"
   ]
  },
  {
   "cell_type": "code",
   "execution_count": null,
   "metadata": {
    "colab": {
     "base_uri": "https://localhost:8080/"
    },
    "id": "jjsdPnCX_dJK",
    "outputId": "a699230a-bc3b-4d60-f12d-b499d8326661"
   },
   "outputs": [],
   "source": [
    "o = torch.rand(2,3)\n",
    "o"
   ]
  },
  {
   "cell_type": "code",
   "execution_count": null,
   "metadata": {
    "id": "6SMzbBLuAbXR"
   },
   "outputs": [],
   "source": [
    "p = o # not desirable"
   ]
  },
  {
   "cell_type": "code",
   "execution_count": null,
   "metadata": {
    "colab": {
     "base_uri": "https://localhost:8080/"
    },
    "id": "A-Cs0AQRAgXQ",
    "outputId": "c39e4f08-7af6-4404-a159-fcf2671a2da7"
   },
   "outputs": [],
   "source": [
    "p"
   ]
  },
  {
   "cell_type": "code",
   "execution_count": null,
   "metadata": {
    "colab": {
     "base_uri": "https://localhost:8080/"
    },
    "id": "K4hZLI94Ag3C",
    "outputId": "f2f4b614-5eb3-4b7b-b4c2-029c0f2dc7d3"
   },
   "outputs": [],
   "source": [
    "o[0][0] = 0 # change the original matrix\n",
    "o"
   ]
  },
  {
   "cell_type": "code",
   "execution_count": null,
   "metadata": {
    "colab": {
     "base_uri": "https://localhost:8080/"
    },
    "id": "vgP62wrCAn2S",
    "outputId": "8b25e76c-60f5-4635-9ef1-d0c653ca7b74"
   },
   "outputs": [],
   "source": [
    "p # the copied matrix has also changed"
   ]
  },
  {
   "cell_type": "code",
   "execution_count": null,
   "metadata": {
    "colab": {
     "base_uri": "https://localhost:8080/"
    },
    "id": "6ZTQ_98KAowy",
    "outputId": "f382f78c-ece5-4751-9394-774c81a5ff32"
   },
   "outputs": [],
   "source": [
    "id(o)"
   ]
  },
  {
   "cell_type": "code",
   "execution_count": null,
   "metadata": {
    "colab": {
     "base_uri": "https://localhost:8080/"
    },
    "id": "t4z5FJFjAuX-",
    "outputId": "4c5dd144-29e4-43cb-fb5a-b27aaac9ac82"
   },
   "outputs": [],
   "source": [
    "id(p) # pointing to the same id as original matrix"
   ]
  },
  {
   "cell_type": "code",
   "execution_count": null,
   "metadata": {
    "id": "yoQNyNR5AvcB"
   },
   "outputs": [],
   "source": [
    "# Using clone() function to copy a tensor\n",
    "p = o.clone() # tensor is formed completely at new location"
   ]
  },
  {
   "cell_type": "code",
   "execution_count": null,
   "metadata": {
    "colab": {
     "base_uri": "https://localhost:8080/"
    },
    "id": "tNxv1rkpA9CN",
    "outputId": "280e4995-d8b1-43fc-88df-6272bcd5b025"
   },
   "outputs": [],
   "source": [
    "o"
   ]
  },
  {
   "cell_type": "code",
   "execution_count": null,
   "metadata": {
    "colab": {
     "base_uri": "https://localhost:8080/"
    },
    "id": "pte32M20BEHg",
    "outputId": "0a712d14-730d-4604-c4e8-75c7c30365cd"
   },
   "outputs": [],
   "source": [
    "p"
   ]
  },
  {
   "cell_type": "code",
   "execution_count": null,
   "metadata": {
    "id": "rkOkuWcmBEga"
   },
   "outputs": [],
   "source": [
    "# change original tensor\n",
    "o[0][0] = 8"
   ]
  },
  {
   "cell_type": "code",
   "execution_count": null,
   "metadata": {
    "colab": {
     "base_uri": "https://localhost:8080/"
    },
    "id": "aaXDPmxMBNtQ",
    "outputId": "adde0606-ed02-4081-c924-1e05770caac9"
   },
   "outputs": [],
   "source": [
    "o"
   ]
  },
  {
   "cell_type": "code",
   "execution_count": null,
   "metadata": {
    "colab": {
     "base_uri": "https://localhost:8080/"
    },
    "id": "HVO_JWbmBO2M",
    "outputId": "5b79354c-0bc4-438e-f137-445198d09f59"
   },
   "outputs": [],
   "source": [
    "p # p remains unchanged"
   ]
  },
  {
   "cell_type": "code",
   "execution_count": null,
   "metadata": {
    "colab": {
     "base_uri": "https://localhost:8080/"
    },
    "id": "tzkeZoMYBPVL",
    "outputId": "93a92482-04b6-4aa2-efed-9cce09bac3fc"
   },
   "outputs": [],
   "source": [
    "id(o)"
   ]
  },
  {
   "cell_type": "code",
   "execution_count": null,
   "metadata": {
    "colab": {
     "base_uri": "https://localhost:8080/"
    },
    "id": "AVvS_VCyBgm9",
    "outputId": "a408a06d-49a6-46aa-cd50-b9d1a7242201"
   },
   "outputs": [],
   "source": [
    "id(p) # tensor is formed completely at new location"
   ]
  },
  {
   "cell_type": "markdown",
   "metadata": {
    "id": "NekhNoL-CShc"
   },
   "source": [
    "# Tensor Operations on GPU"
   ]
  },
  {
   "cell_type": "code",
   "execution_count": null,
   "metadata": {
    "colab": {
     "base_uri": "https://localhost:8080/"
    },
    "id": "c7CjSAfOBhTD",
    "outputId": "72d097b9-1092-4cab-8127-6c9d63096e7d"
   },
   "outputs": [],
   "source": [
    "torch.cuda.is_available()"
   ]
  },
  {
   "cell_type": "code",
   "execution_count": null,
   "metadata": {
    "id": "gx_A5KCmCYLz"
   },
   "outputs": [],
   "source": [
    "device = torch.device('cuda') # assigning gpu to device variable"
   ]
  },
  {
   "cell_type": "code",
   "execution_count": null,
   "metadata": {
    "colab": {
     "base_uri": "https://localhost:8080/"
    },
    "id": "mTGD9FIECfo7",
    "outputId": "1a96055d-7c39-429a-d7ac-0d1750c28f80"
   },
   "outputs": [],
   "source": [
    "# creating a new tensor on GPU\n",
    "\n",
    "torch.rand((2,3), device = device)"
   ]
  },
  {
   "cell_type": "code",
   "execution_count": null,
   "metadata": {
    "colab": {
     "base_uri": "https://localhost:8080/"
    },
    "id": "99_Y83zKCpr2",
    "outputId": "c96faa6f-31a1-4a98-d326-04ac9eed4b12"
   },
   "outputs": [],
   "source": [
    "# moving an existing tensor to GPU\n",
    "a"
   ]
  },
  {
   "cell_type": "code",
   "execution_count": null,
   "metadata": {
    "colab": {
     "base_uri": "https://localhost:8080/"
    },
    "id": "LdKl6DJaCzau",
    "outputId": "950c2e2b-8ba0-4993-d5d3-729f01d33ebc"
   },
   "outputs": [],
   "source": [
    "# moving an existing tensor a to GPU\n",
    "q = a.to(device)\n",
    "q"
   ]
  },
  {
   "cell_type": "code",
   "execution_count": null,
   "metadata": {
    "colab": {
     "base_uri": "https://localhost:8080/"
    },
    "id": "XgVrKoIpDAGc",
    "outputId": "b986f3c8-5902-4314-bafb-d4db471ab790"
   },
   "outputs": [],
   "source": [
    "q + 2 # all operations perfomed will be performed in gpu"
   ]
  },
  {
   "cell_type": "markdown",
   "metadata": {
    "id": "-vyReNx0D--F"
   },
   "source": [
    "# Reshaping Tensors"
   ]
  },
  {
   "cell_type": "code",
   "execution_count": null,
   "metadata": {
    "colab": {
     "base_uri": "https://localhost:8080/"
    },
    "id": "3yxUymFgDMta",
    "outputId": "1c875b0a-922c-4f81-fa49-96004b7199be"
   },
   "outputs": [],
   "source": [
    "r = torch.ones(4,4)\n",
    "r"
   ]
  },
  {
   "cell_type": "code",
   "execution_count": null,
   "metadata": {
    "colab": {
     "base_uri": "https://localhost:8080/"
    },
    "id": "4PEWP7ZzEJUk",
    "outputId": "4f2ef3cf-a0e5-4b45-b3bc-20edbf2eb8c3"
   },
   "outputs": [],
   "source": [
    "# reshape\n",
    "r.reshape(2,2,2,2)"
   ]
  },
  {
   "cell_type": "code",
   "execution_count": null,
   "metadata": {
    "colab": {
     "base_uri": "https://localhost:8080/"
    },
    "id": "yDe3EeziENOp",
    "outputId": "2988118a-beb9-4679-e8db-1d7b85c74161"
   },
   "outputs": [],
   "source": [
    "# flatten gives one dimensional tensor\n",
    "r.flatten()"
   ]
  },
  {
   "cell_type": "code",
   "execution_count": null,
   "metadata": {
    "colab": {
     "base_uri": "https://localhost:8080/"
    },
    "id": "Tv_7QBVsEafq",
    "outputId": "968583d4-93c4-47e7-a122-145b1a21c464"
   },
   "outputs": [],
   "source": [
    "s = torch.rand(2,3,4) # s is at '0', 3 is at '1' and 4 is at '2'.\n",
    "s"
   ]
  },
  {
   "cell_type": "code",
   "execution_count": null,
   "metadata": {
    "colab": {
     "base_uri": "https://localhost:8080/"
    },
    "id": "Y5VQlUHQE4WD",
    "outputId": "b7901e67-6bd0-4465-c948-44447dccf3f4"
   },
   "outputs": [],
   "source": [
    "# permute\n",
    "s.permute(2,0,1)"
   ]
  },
  {
   "cell_type": "code",
   "execution_count": null,
   "metadata": {
    "colab": {
     "base_uri": "https://localhost:8080/"
    },
    "id": "MYDkdQY1FLnU",
    "outputId": "df9c188c-bc03-45fd-dab4-7b04f88cbf71"
   },
   "outputs": [],
   "source": [
    "s.permute(2,0,1).shape"
   ]
  },
  {
   "cell_type": "markdown",
   "metadata": {
    "id": "XTfghKJPG2AG"
   },
   "source": [
    "The .unsqueeze() function in PyTorch adds a dimension of size 1 at the specified position in the tensor's shape.\n",
    "\n",
    "This is commonly done to add a batch dimension. Many models expect input in the shape (batch_size, height, width, channels) (or sometimes (batch_size, channels, height, width) depending on the framework), even if you're passing just one image."
   ]
  },
  {
   "cell_type": "code",
   "execution_count": null,
   "metadata": {
    "colab": {
     "base_uri": "https://localhost:8080/"
    },
    "id": "L6qd2d96FTrJ",
    "outputId": "b5187283-2fbf-44f7-dd75-f407bef0df60"
   },
   "outputs": [],
   "source": [
    "# unsqeeze\n",
    "\n",
    "# typical image size\n",
    "t = torch.rand(226,226,3)\n",
    "\n",
    "t.unsqueeze(0).shape"
   ]
  },
  {
   "cell_type": "code",
   "execution_count": null,
   "metadata": {
    "colab": {
     "base_uri": "https://localhost:8080/"
    },
    "id": "MHHcb6AfGOUk",
    "outputId": "e7b1e2c9-b977-47d8-d8b0-d2d86aa526c1"
   },
   "outputs": [],
   "source": [
    "# squeeze\n",
    "\n",
    "u = torch.rand(1,20)\n",
    "u"
   ]
  },
  {
   "cell_type": "markdown",
   "metadata": {
    "id": "S3S1uPS5HnPn"
   },
   "source": [
    "squeeze() is the opposite of unsqueeze() — it removes dimensions of size 1 from a tensor's shape."
   ]
  },
  {
   "cell_type": "code",
   "execution_count": null,
   "metadata": {
    "colab": {
     "base_uri": "https://localhost:8080/"
    },
    "id": "FufHNAcCHUBf",
    "outputId": "a3c7b171-67cd-462b-af8d-80b276f40390"
   },
   "outputs": [],
   "source": [
    "u.squeeze(0).shape"
   ]
  },
  {
   "cell_type": "markdown",
   "metadata": {
    "id": "W7QZYqjpIIDI"
   },
   "source": [
    "# NumPy and PyTorch"
   ]
  },
  {
   "cell_type": "code",
   "execution_count": null,
   "metadata": {
    "id": "6BdEH4vwHY7d"
   },
   "outputs": [],
   "source": [
    "import numpy as np"
   ]
  },
  {
   "cell_type": "code",
   "execution_count": null,
   "metadata": {
    "colab": {
     "base_uri": "https://localhost:8080/"
    },
    "id": "MPdsu6R1IMiR",
    "outputId": "8a0863f5-627f-44fc-9d1f-263cc238514c"
   },
   "outputs": [],
   "source": [
    "v = torch.tensor([1,2,3])\n",
    "v"
   ]
  },
  {
   "cell_type": "code",
   "execution_count": null,
   "metadata": {
    "colab": {
     "base_uri": "https://localhost:8080/"
    },
    "id": "ta-yAG81IRau",
    "outputId": "48ca31bf-5402-4ddd-ca4e-cc16a09a5af1"
   },
   "outputs": [],
   "source": [
    "w = v.numpy() # converting tensor to numpy\n",
    "w"
   ]
  },
  {
   "cell_type": "code",
   "execution_count": null,
   "metadata": {
    "colab": {
     "base_uri": "https://localhost:8080/"
    },
    "id": "xTn-GXJ6IUNd",
    "outputId": "7d205bf8-7fee-487d-cb62-9b72578b1167"
   },
   "outputs": [],
   "source": [
    "type(w)"
   ]
  },
  {
   "cell_type": "code",
   "execution_count": null,
   "metadata": {
    "colab": {
     "base_uri": "https://localhost:8080/"
    },
    "id": "xWoO9_B8IZZk",
    "outputId": "bb7b7469-a32d-4295-c02d-3913a5112be0"
   },
   "outputs": [],
   "source": [
    "x = np.array([4,5,6]) # creating a numpy array\n",
    "x"
   ]
  },
  {
   "cell_type": "code",
   "execution_count": null,
   "metadata": {
    "colab": {
     "base_uri": "https://localhost:8080/"
    },
    "id": "wWdXO7cQIsK4",
    "outputId": "3d4c6e98-f2d1-4c65-d0c1-e85171ee01c3"
   },
   "outputs": [],
   "source": [
    "torch.from_numpy(x) # convering numpy array to pytorch tensor"
   ]
  },
  {
   "cell_type": "code",
   "execution_count": null,
   "metadata": {
    "id": "_yHd74P9IwmT"
   },
   "outputs": [],
   "source": []
  }
 ],
 "metadata": {
  "accelerator": "GPU",
  "colab": {
   "gpuType": "T4",
   "include_colab_link": true,
   "provenance": []
  },
  "kernelspec": {
   "display_name": "Python 3",
   "name": "python3"
  },
  "language_info": {
   "name": "python"
  }
 },
 "nbformat": 4,
 "nbformat_minor": 0
}
