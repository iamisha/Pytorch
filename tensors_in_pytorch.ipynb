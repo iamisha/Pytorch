{
  "nbformat": 4,
  "nbformat_minor": 0,
  "metadata": {
    "colab": {
      "provenance": [],
      "gpuType": "T4",
      "authorship_tag": "ABX9TyMrhRhVvCadviQCiMutsyZH",
      "include_colab_link": true
    },
    "kernelspec": {
      "name": "python3",
      "display_name": "Python 3"
    },
    "language_info": {
      "name": "python"
    },
    "accelerator": "GPU"
  },
  "cells": [
    {
      "cell_type": "markdown",
      "metadata": {
        "id": "view-in-github",
        "colab_type": "text"
      },
      "source": [
        "<a href=\"https://colab.research.google.com/github/iamisha/Pytorch/blob/day3/tensors_in_pytorch.ipynb\" target=\"_parent\"><img src=\"https://colab.research.google.com/assets/colab-badge.svg\" alt=\"Open In Colab\"/></a>"
      ]
    },
    {
      "cell_type": "markdown",
      "source": [
        "### Day-2\n",
        "\n"
      ],
      "metadata": {
        "id": "9Q5QqlWFWyVt"
      }
    },
    {
      "cell_type": "code",
      "execution_count": 1,
      "metadata": {
        "colab": {
          "base_uri": "https://localhost:8080/"
        },
        "id": "DDivnkQ4QSEi",
        "outputId": "e86c29e6-b8e2-41b1-a77e-309e8c8ad9a4"
      },
      "outputs": [
        {
          "output_type": "stream",
          "name": "stdout",
          "text": [
            "2.6.0+cu124\n"
          ]
        }
      ],
      "source": [
        "import torch\n",
        "print(torch.__version__)"
      ]
    },
    {
      "cell_type": "code",
      "source": [
        "if torch.cuda.is_available():\n",
        "  print('GPU is available')\n",
        "  print(f'You are using: ',torch.cuda.get_device_name(0))\n",
        "else:\n",
        "  print('GPU is not available')"
      ],
      "metadata": {
        "colab": {
          "base_uri": "https://localhost:8080/"
        },
        "id": "ySiSJpA9QX5S",
        "outputId": "539b05ad-1a95-44ff-e8fd-8e07c521eae1"
      },
      "execution_count": 2,
      "outputs": [
        {
          "output_type": "stream",
          "name": "stdout",
          "text": [
            "GPU is available\n",
            "You are using:  Tesla T4\n"
          ]
        }
      ]
    },
    {
      "cell_type": "markdown",
      "source": [
        "## Creating Tenosr"
      ],
      "metadata": {
        "id": "2h9_lTDqSK-e"
      }
    },
    {
      "cell_type": "code",
      "source": [
        "# Using empty\n",
        "a = torch.empty(2,3)\n",
        "torch.empty(3,2)"
      ],
      "metadata": {
        "colab": {
          "base_uri": "https://localhost:8080/"
        },
        "id": "Nylh63KvQ2hx",
        "outputId": "207d3add-0199-4f2f-da38-a08dc118cbb8"
      },
      "execution_count": 3,
      "outputs": [
        {
          "output_type": "execute_result",
          "data": {
            "text/plain": [
              "tensor([[0.0000e+00, 0.0000e+00],\n",
              "        [4.2039e-45, 0.0000e+00],\n",
              "        [4.2039e-45, 7.0065e-45]])"
            ]
          },
          "metadata": {},
          "execution_count": 3
        }
      ]
    },
    {
      "cell_type": "code",
      "source": [
        "# check type\n",
        "type(a)"
      ],
      "metadata": {
        "colab": {
          "base_uri": "https://localhost:8080/"
        },
        "id": "jk2NH_7_SRTb",
        "outputId": "68e2ed19-d8cb-4bcd-8ed3-fc2c54620dcd"
      },
      "execution_count": 4,
      "outputs": [
        {
          "output_type": "execute_result",
          "data": {
            "text/plain": [
              "torch.Tensor"
            ]
          },
          "metadata": {},
          "execution_count": 4
        }
      ]
    },
    {
      "cell_type": "code",
      "source": [
        "# Using zeros\n",
        "torch.zeros(2,3)"
      ],
      "metadata": {
        "colab": {
          "base_uri": "https://localhost:8080/"
        },
        "id": "33Iox-uFSXn3",
        "outputId": "401fdaae-afcf-4b6a-b3be-3cc90c3c2888"
      },
      "execution_count": 5,
      "outputs": [
        {
          "output_type": "execute_result",
          "data": {
            "text/plain": [
              "tensor([[0., 0., 0.],\n",
              "        [0., 0., 0.]])"
            ]
          },
          "metadata": {},
          "execution_count": 5
        }
      ]
    },
    {
      "cell_type": "code",
      "source": [
        "# Using ones\n",
        "torch.ones(2,3)"
      ],
      "metadata": {
        "colab": {
          "base_uri": "https://localhost:8080/"
        },
        "id": "vCy2jktPSs8m",
        "outputId": "837ec716-c9f0-42d1-d113-f9113918d816"
      },
      "execution_count": 6,
      "outputs": [
        {
          "output_type": "execute_result",
          "data": {
            "text/plain": [
              "tensor([[1., 1., 1.],\n",
              "        [1., 1., 1.]])"
            ]
          },
          "metadata": {},
          "execution_count": 6
        }
      ]
    },
    {
      "cell_type": "code",
      "source": [
        "# Using rand\n",
        "torch.rand(2,3)"
      ],
      "metadata": {
        "colab": {
          "base_uri": "https://localhost:8080/"
        },
        "id": "cNekHNUzSwA1",
        "outputId": "2811107c-b2ee-41f3-ed97-f38fe0f46fc8"
      },
      "execution_count": 7,
      "outputs": [
        {
          "output_type": "execute_result",
          "data": {
            "text/plain": [
              "tensor([[0.1491, 0.4223, 0.5970],\n",
              "        [0.4097, 0.6678, 0.0939]])"
            ]
          },
          "metadata": {},
          "execution_count": 7
        }
      ]
    },
    {
      "cell_type": "code",
      "source": [
        "# Use of seed\n",
        "torch.rand(2,3) # it gets random values each time you run"
      ],
      "metadata": {
        "colab": {
          "base_uri": "https://localhost:8080/"
        },
        "id": "_fYypKfySyCS",
        "outputId": "070dbd06-8726-4c75-84b3-3a59823f324f"
      },
      "execution_count": 8,
      "outputs": [
        {
          "output_type": "execute_result",
          "data": {
            "text/plain": [
              "tensor([[0.5460, 0.2025, 0.3000],\n",
              "        [0.3204, 0.6478, 0.8094]])"
            ]
          },
          "metadata": {},
          "execution_count": 8
        }
      ]
    },
    {
      "cell_type": "code",
      "source": [
        "# manual seed gives same values of rand each time you run the cell\n",
        "torch.manual_seed(100)\n",
        "torch.rand(2,3)"
      ],
      "metadata": {
        "colab": {
          "base_uri": "https://localhost:8080/"
        },
        "id": "uILWRE-aTVYS",
        "outputId": "d7833b05-d1fc-4399-e4ec-f91b1d52ba77"
      },
      "execution_count": 9,
      "outputs": [
        {
          "output_type": "execute_result",
          "data": {
            "text/plain": [
              "tensor([[0.1117, 0.8158, 0.2626],\n",
              "        [0.4839, 0.6765, 0.7539]])"
            ]
          },
          "metadata": {},
          "execution_count": 9
        }
      ]
    },
    {
      "cell_type": "code",
      "source": [
        "torch.manual_seed(100)\n",
        "torch.rand(2,3)"
      ],
      "metadata": {
        "colab": {
          "base_uri": "https://localhost:8080/"
        },
        "id": "-5kfHg92Td47",
        "outputId": "53d4823a-688f-4235-b0dc-6c8b220f44ce"
      },
      "execution_count": 10,
      "outputs": [
        {
          "output_type": "execute_result",
          "data": {
            "text/plain": [
              "tensor([[0.1117, 0.8158, 0.2626],\n",
              "        [0.4839, 0.6765, 0.7539]])"
            ]
          },
          "metadata": {},
          "execution_count": 10
        }
      ]
    },
    {
      "cell_type": "code",
      "source": [
        "# Using tensor\n",
        "torch.tensor([(1,2),[3,4]])"
      ],
      "metadata": {
        "colab": {
          "base_uri": "https://localhost:8080/"
        },
        "id": "OQw6h7CoTgYl",
        "outputId": "2356d690-ca78-4b29-a8f6-c35346331071"
      },
      "execution_count": 11,
      "outputs": [
        {
          "output_type": "execute_result",
          "data": {
            "text/plain": [
              "tensor([[1, 2],\n",
              "        [3, 4]])"
            ]
          },
          "metadata": {},
          "execution_count": 11
        }
      ]
    },
    {
      "cell_type": "code",
      "source": [
        "# Other ways\n",
        "\n",
        "print(f'using arange: ', torch.arange(0,10,2))\n",
        "\n",
        "print(f'using linspace: ', torch.linspace(0,10,5))\n",
        "\n",
        "print(f'Using eye: ', torch.eye(5))\n",
        "\n",
        "\n",
        "print(f'Using full: ', torch.full((3,2),3))\n"
      ],
      "metadata": {
        "colab": {
          "base_uri": "https://localhost:8080/"
        },
        "id": "ND7zSHRhT4wO",
        "outputId": "f1adafa6-5571-4f90-aede-b5c85053ab94"
      },
      "execution_count": 12,
      "outputs": [
        {
          "output_type": "stream",
          "name": "stdout",
          "text": [
            "using arange:  tensor([0, 2, 4, 6, 8])\n",
            "using linspace:  tensor([ 0.0000,  2.5000,  5.0000,  7.5000, 10.0000])\n",
            "Using eye:  tensor([[1., 0., 0., 0., 0.],\n",
            "        [0., 1., 0., 0., 0.],\n",
            "        [0., 0., 1., 0., 0.],\n",
            "        [0., 0., 0., 1., 0.],\n",
            "        [0., 0., 0., 0., 1.]])\n",
            "Using full:  tensor([[3, 3],\n",
            "        [3, 3],\n",
            "        [3, 3]])\n"
          ]
        }
      ]
    },
    {
      "cell_type": "markdown",
      "source": [
        "# Tensor Shapes"
      ],
      "metadata": {
        "id": "_wRamLveWKmg"
      }
    },
    {
      "cell_type": "code",
      "source": [
        "x = torch.tensor([[1,2,3],[4,5,6]])"
      ],
      "metadata": {
        "id": "BAcdkG7iUrhQ"
      },
      "execution_count": 14,
      "outputs": []
    },
    {
      "cell_type": "code",
      "source": [
        "x.shape"
      ],
      "metadata": {
        "colab": {
          "base_uri": "https://localhost:8080/"
        },
        "id": "stIC6vcYrSm4",
        "outputId": "5b6a059b-cec7-4eee-8338-8cea109d565d"
      },
      "execution_count": 17,
      "outputs": [
        {
          "output_type": "execute_result",
          "data": {
            "text/plain": [
              "torch.Size([2, 3])"
            ]
          },
          "metadata": {},
          "execution_count": 17
        }
      ]
    },
    {
      "cell_type": "code",
      "source": [
        "# create the tensors of same size\n",
        "torch.empty_like(x)\n",
        "\n",
        "torch.zeros_like(x)"
      ],
      "metadata": {
        "colab": {
          "base_uri": "https://localhost:8080/"
        },
        "id": "Q5RFnCNfrTyZ",
        "outputId": "9c7f49f9-9728-435c-94c9-87777e1b5283"
      },
      "execution_count": 21,
      "outputs": [
        {
          "output_type": "execute_result",
          "data": {
            "text/plain": [
              "tensor([[0, 0, 0],\n",
              "        [0, 0, 0]])"
            ]
          },
          "metadata": {},
          "execution_count": 21
        }
      ]
    },
    {
      "cell_type": "code",
      "source": [
        "torch.rand_like(x)"
      ],
      "metadata": {
        "colab": {
          "base_uri": "https://localhost:8080/",
          "height": 141
        },
        "id": "Z9SDAgQqsDOg",
        "outputId": "9cc77691-b803-48ce-b8fa-498494ce1120"
      },
      "execution_count": 34,
      "outputs": [
        {
          "output_type": "error",
          "ename": "RuntimeError",
          "evalue": "\"check_uniform_bounds\" not implemented for 'Long'",
          "traceback": [
            "\u001b[0;31m---------------------------------------------------------------------------\u001b[0m",
            "\u001b[0;31mRuntimeError\u001b[0m                              Traceback (most recent call last)",
            "\u001b[0;32m<ipython-input-34-8a266f1565c3>\u001b[0m in \u001b[0;36m<cell line: 0>\u001b[0;34m()\u001b[0m\n\u001b[0;32m----> 1\u001b[0;31m \u001b[0mtorch\u001b[0m\u001b[0;34m.\u001b[0m\u001b[0mrand_like\u001b[0m\u001b[0;34m(\u001b[0m\u001b[0mx\u001b[0m\u001b[0;34m)\u001b[0m\u001b[0;34m\u001b[0m\u001b[0;34m\u001b[0m\u001b[0m\n\u001b[0m",
            "\u001b[0;31mRuntimeError\u001b[0m: \"check_uniform_bounds\" not implemented for 'Long'"
          ]
        }
      ]
    },
    {
      "cell_type": "code",
      "source": [
        "torch.rand_like(x, dtype=torch.float32)"
      ],
      "metadata": {
        "colab": {
          "base_uri": "https://localhost:8080/"
        },
        "id": "aXI48dE4xNWN",
        "outputId": "e01e435e-1f2a-4056-f6ef-aa9c2f5c3c99"
      },
      "execution_count": 36,
      "outputs": [
        {
          "output_type": "execute_result",
          "data": {
            "text/plain": [
              "tensor([[0.2627, 0.0428, 0.2080],\n",
              "        [0.1180, 0.1217, 0.7356]])"
            ]
          },
          "metadata": {},
          "execution_count": 36
        }
      ]
    },
    {
      "cell_type": "markdown",
      "source": [
        "# Tensor Data Types"
      ],
      "metadata": {
        "id": "Y3RKM1kWuqKH"
      }
    },
    {
      "cell_type": "code",
      "source": [
        "# find data type\n",
        "x.dtype"
      ],
      "metadata": {
        "colab": {
          "base_uri": "https://localhost:8080/"
        },
        "id": "KovM1iRuupLz",
        "outputId": "02e7130c-2ce6-4f6a-b64e-543ed5189c74"
      },
      "execution_count": 23,
      "outputs": [
        {
          "output_type": "execute_result",
          "data": {
            "text/plain": [
              "torch.int64"
            ]
          },
          "metadata": {},
          "execution_count": 23
        }
      ]
    },
    {
      "cell_type": "code",
      "source": [
        "# assign data type\n",
        "torch.tensor([1.0,2.0,3.0],  dtype=torch.int32)"
      ],
      "metadata": {
        "colab": {
          "base_uri": "https://localhost:8080/"
        },
        "id": "i3EbBHSlu1P7",
        "outputId": "05e22ff9-4eab-4d7a-a5bf-701bc7603bab"
      },
      "execution_count": 26,
      "outputs": [
        {
          "output_type": "execute_result",
          "data": {
            "text/plain": [
              "tensor([1, 2, 3], dtype=torch.int32)"
            ]
          },
          "metadata": {},
          "execution_count": 26
        }
      ]
    },
    {
      "cell_type": "code",
      "source": [
        "torch.tensor([1,2,3],  dtype=torch.float64)"
      ],
      "metadata": {
        "colab": {
          "base_uri": "https://localhost:8080/"
        },
        "id": "4QGy3wGPvRVN",
        "outputId": "99100326-7ca4-47c8-928d-5a24232b7200"
      },
      "execution_count": 28,
      "outputs": [
        {
          "output_type": "execute_result",
          "data": {
            "text/plain": [
              "tensor([1., 2., 3.], dtype=torch.float64)"
            ]
          },
          "metadata": {},
          "execution_count": 28
        }
      ]
    },
    {
      "cell_type": "code",
      "source": [
        "# using to() method\n",
        "x.to(torch.float32)"
      ],
      "metadata": {
        "colab": {
          "base_uri": "https://localhost:8080/"
        },
        "id": "wsjuThEjwbOw",
        "outputId": "0215ee43-932e-4af6-ec51-3d51b581c81b"
      },
      "execution_count": 29,
      "outputs": [
        {
          "output_type": "execute_result",
          "data": {
            "text/plain": [
              "tensor([[1., 2., 3.],\n",
              "        [4., 5., 6.]])"
            ]
          },
          "metadata": {},
          "execution_count": 29
        }
      ]
    },
    {
      "cell_type": "markdown",
      "source": [
        "| **Data Type**               | **Dtype**           | **Description**                                                                 |\n",
        "|----------------------------|---------------------|---------------------------------------------------------------------------------|\n",
        "| 32-bit Floating Point       | `torch.float32`     | Standard floating-point type used for most deep learning tasks.                |\n",
        "| 64-bit Floating Point       | `torch.float64`     | Double-precision floating point. Higher precision, more memory.                |\n",
        "| 16-bit Floating Point       | `torch.float16`     | Half-precision float. Reduces memory/computation in mixed-precision training.  |\n",
        "| BFloat16                    | `torch.bfloat16`    | Reduced precision float for mixed-precision, common on TPUs.                   |\n",
        "| 8-bit Floating Point        | `torch.float8`      | Ultra-low-precision float. Experimental, for extreme memory limits.            |\n",
        "| 8-bit Integer               | `torch.int8`        | Signed 8-bit integer. Used in quantized inference models.                      |\n",
        "| 16-bit Integer              | `torch.int16`       | Signed 16-bit integer. Intermediate numerical precision.                       |\n",
        "| 32-bit Integer              | `torch.int32`       | Standard integer for indexing/general numerical tasks.                         |\n",
        "| 64-bit Integer              | `torch.int64`       | Long integer. Suitable for large numbers/indices.                              |\n",
        "| 8-bit Unsigned Integer      | `torch.uint8`       | Unsigned 8-bit. Common for image pixel values (0–255).                         |\n",
        "| Boolean                     | `torch.bool`        | Boolean type (`True`/`False`). Used in masking and logical ops.                |\n",
        "| Complex 64                  | `torch.complex64`   | Complex type with 32-bit real & imaginary parts. Used in scientific computing. |\n",
        "| Complex 128                 | `torch.complex128`  | Complex type with 64-bit real & imaginary parts. High precision.               |\n",
        "| Quantized Integer           | `torch.qint8`       | Quantized signed 8-bit integer. Efficient for inference.                       |\n",
        "| Quantized Unsigned Integer  | `torch.quint8`      | Quantized unsigned 8-bit. Used in image-related quantized models.              |"
      ],
      "metadata": {
        "id": "8CXC4NOLxjvr"
      }
    },
    {
      "cell_type": "markdown",
      "source": [
        "# Mathematical Operation\n"
      ],
      "metadata": {
        "id": "oXdDxG1tyb5L"
      }
    },
    {
      "cell_type": "code",
      "source": [
        "y = torch.rand(2,2)\n",
        "y"
      ],
      "metadata": {
        "colab": {
          "base_uri": "https://localhost:8080/"
        },
        "id": "8tfUMc1iwrNR",
        "outputId": "809fca01-22e5-4707-ce64-f035876a5cd2"
      },
      "execution_count": 47,
      "outputs": [
        {
          "output_type": "execute_result",
          "data": {
            "text/plain": [
              "tensor([[0.1784, 0.8238],\n",
              "        [0.5557, 0.9770]])"
            ]
          },
          "metadata": {},
          "execution_count": 47
        }
      ]
    },
    {
      "cell_type": "code",
      "source": [
        "# Scalar operations\n",
        "\n",
        "# addition\n",
        "y + 2\n",
        "\n",
        "# substraction\n",
        "y - 2\n",
        "\n",
        "# division\n",
        "y/2\n",
        "\n",
        "# int division\n",
        "(50 * y)//2\n",
        "\n",
        "# modular division\n",
        "y % 2\n",
        "\n",
        "# power\n",
        "y ** 2"
      ],
      "metadata": {
        "colab": {
          "base_uri": "https://localhost:8080/"
        },
        "id": "u2iS459Gyhll",
        "outputId": "44feb2b3-d50f-4704-a178-01483ec46cd9"
      },
      "execution_count": 48,
      "outputs": [
        {
          "output_type": "execute_result",
          "data": {
            "text/plain": [
              "tensor([[0.0318, 0.6787],\n",
              "        [0.3089, 0.9546]])"
            ]
          },
          "metadata": {},
          "execution_count": 48
        }
      ]
    },
    {
      "cell_type": "markdown",
      "source": [
        "# Elementwise Operation"
      ],
      "metadata": {
        "id": "xNXSdGau0M_n"
      }
    },
    {
      "cell_type": "code",
      "source": [
        "a = torch.rand(2,3)\n",
        "b = torch.rand(2,3)\n",
        "\n",
        "print(a)\n",
        "print(b)"
      ],
      "metadata": {
        "colab": {
          "base_uri": "https://localhost:8080/"
        },
        "id": "CBJlpR6HzAjK",
        "outputId": "0437dc60-7162-4beb-cd27-a7ae108a5b47"
      },
      "execution_count": 50,
      "outputs": [
        {
          "output_type": "stream",
          "name": "stdout",
          "text": [
            "tensor([[0.9535, 0.7064, 0.1629],\n",
            "        [0.8902, 0.5163, 0.0359]])\n",
            "tensor([[0.6476, 0.3430, 0.3182],\n",
            "        [0.5261, 0.0447, 0.5123]])\n"
          ]
        }
      ]
    },
    {
      "cell_type": "code",
      "source": [
        "# add\n",
        "a + b\n",
        "\n",
        "# substract\n",
        "a - b\n",
        "\n",
        "# mul\n",
        "a * b\n",
        "\n",
        "# div\n",
        "a / b\n",
        "\n",
        "# mod\n",
        "a % b\n",
        "\n",
        "# power\n",
        "a ** b"
      ],
      "metadata": {
        "colab": {
          "base_uri": "https://localhost:8080/"
        },
        "id": "YNDKqnkC0WCM",
        "outputId": "151a940a-10c4-4a3a-a3a9-daef919bb2dc"
      },
      "execution_count": 56,
      "outputs": [
        {
          "output_type": "execute_result",
          "data": {
            "text/plain": [
              "tensor([[0.9697, 0.8876, 0.5613],\n",
              "        [0.9406, 0.9709, 0.1818]])"
            ]
          },
          "metadata": {},
          "execution_count": 56
        }
      ]
    },
    {
      "cell_type": "markdown",
      "source": [
        "## Single Tensor Elementwise Operation"
      ],
      "metadata": {
        "id": "yEuuMiqB1Df2"
      }
    },
    {
      "cell_type": "code",
      "source": [
        "c = torch.tensor([1, -2, 3, -4])\n",
        "c"
      ],
      "metadata": {
        "colab": {
          "base_uri": "https://localhost:8080/"
        },
        "id": "si1B04490dli",
        "outputId": "aad3be98-1632-4385-ffdf-b0e0e8965feb"
      },
      "execution_count": 59,
      "outputs": [
        {
          "output_type": "execute_result",
          "data": {
            "text/plain": [
              "tensor([ 1, -2,  3, -4])"
            ]
          },
          "metadata": {},
          "execution_count": 59
        }
      ]
    },
    {
      "cell_type": "code",
      "source": [
        "# abs\n",
        "torch.abs(c)\n",
        "\n",
        "# neg\n",
        "torch.neg(c)"
      ],
      "metadata": {
        "colab": {
          "base_uri": "https://localhost:8080/"
        },
        "id": "gbRXgzu_1OX5",
        "outputId": "0dcd703a-7c69-4d60-cb2b-4fa5dca23173"
      },
      "execution_count": 61,
      "outputs": [
        {
          "output_type": "execute_result",
          "data": {
            "text/plain": [
              "tensor([-1,  2, -3,  4])"
            ]
          },
          "metadata": {},
          "execution_count": 61
        }
      ]
    },
    {
      "cell_type": "code",
      "source": [
        "d = torch.tensor([1.9, 2.3, 3.7, 4.4])"
      ],
      "metadata": {
        "id": "gZFND_KG1Qom"
      },
      "execution_count": 62,
      "outputs": []
    },
    {
      "cell_type": "code",
      "source": [
        "# round\n",
        "torch.round(d)\n",
        "\n",
        "# ceil\n",
        "torch.ceil(d)\n",
        "\n",
        "# floor\n",
        "torch.floor(d)\n",
        "\n",
        "# clamp\n",
        "torch.clamp(d, min=3, max=4)"
      ],
      "metadata": {
        "colab": {
          "base_uri": "https://localhost:8080/"
        },
        "id": "3hfAjwi62Wlg",
        "outputId": "9c20e811-5645-45e7-feff-c158fd006095"
      },
      "execution_count": 67,
      "outputs": [
        {
          "output_type": "execute_result",
          "data": {
            "text/plain": [
              "tensor([3.0000, 3.0000, 3.7000, 4.0000])"
            ]
          },
          "metadata": {},
          "execution_count": 67
        }
      ]
    },
    {
      "cell_type": "markdown",
      "source": [
        "## Reduction Operation"
      ],
      "metadata": {
        "id": "hPU3DpOG6nyJ"
      }
    },
    {
      "cell_type": "code",
      "source": [
        "e = torch.randint(size =(2,3), low=0, high=20, dtype=torch.float32)\n",
        "e"
      ],
      "metadata": {
        "colab": {
          "base_uri": "https://localhost:8080/"
        },
        "id": "ASzReENI2kHm",
        "outputId": "3694bf4b-971b-4ea6-85b6-6ca786faf9a3"
      },
      "execution_count": 75,
      "outputs": [
        {
          "output_type": "execute_result",
          "data": {
            "text/plain": [
              "tensor([[ 8.,  3.,  3.],\n",
              "        [ 5., 10., 16.]])"
            ]
          },
          "metadata": {},
          "execution_count": 75
        }
      ]
    },
    {
      "cell_type": "code",
      "source": [
        "# sum\n",
        "torch.sum(e)\n",
        "\n",
        "# sum columnwise\n",
        "torch.sum(e, dim=0)\n",
        "\n",
        "# sum rowwise\n",
        "torch.sum(e, dim=1)"
      ],
      "metadata": {
        "colab": {
          "base_uri": "https://localhost:8080/"
        },
        "id": "J4U-POW4659R",
        "outputId": "d392ce37-24ae-4229-ba93-b67253957f5e"
      },
      "execution_count": 77,
      "outputs": [
        {
          "output_type": "execute_result",
          "data": {
            "text/plain": [
              "tensor([14., 31.])"
            ]
          },
          "metadata": {},
          "execution_count": 77
        }
      ]
    },
    {
      "cell_type": "code",
      "source": [
        "# mean\n",
        "torch.mean(e)\n",
        "\n",
        "# mean, columnwise\n",
        "torch.mean(e, dim=0)\n",
        "\n",
        "# mean, rowwise\n",
        "torch.mean(e, dim=1)"
      ],
      "metadata": {
        "colab": {
          "base_uri": "https://localhost:8080/"
        },
        "id": "yxSiTxlq7BqP",
        "outputId": "b730bdc6-4800-401e-88c9-7bbfc506c946"
      },
      "execution_count": 79,
      "outputs": [
        {
          "output_type": "execute_result",
          "data": {
            "text/plain": [
              "tensor([ 4.6667, 10.3333])"
            ]
          },
          "metadata": {},
          "execution_count": 79
        }
      ]
    },
    {
      "cell_type": "code",
      "source": [
        "# median\n",
        "torch.median(e)"
      ],
      "metadata": {
        "colab": {
          "base_uri": "https://localhost:8080/"
        },
        "id": "gvm76b7k7ibl",
        "outputId": "6781b3cf-9c69-46ff-975e-0303c354b11f"
      },
      "execution_count": 80,
      "outputs": [
        {
          "output_type": "execute_result",
          "data": {
            "text/plain": [
              "tensor(5.)"
            ]
          },
          "metadata": {},
          "execution_count": 80
        }
      ]
    },
    {
      "cell_type": "code",
      "source": [
        "# min and max\n",
        "torch.min(e)\n",
        "torch.max(e)"
      ],
      "metadata": {
        "colab": {
          "base_uri": "https://localhost:8080/"
        },
        "id": "kszKumFj8TBP",
        "outputId": "981e712a-ae40-4fc0-9b00-668bd19f08d5"
      },
      "execution_count": 82,
      "outputs": [
        {
          "output_type": "execute_result",
          "data": {
            "text/plain": [
              "tensor(16.)"
            ]
          },
          "metadata": {},
          "execution_count": 82
        }
      ]
    },
    {
      "cell_type": "code",
      "source": [
        "# product\n",
        "torch.prod(e)"
      ],
      "metadata": {
        "colab": {
          "base_uri": "https://localhost:8080/"
        },
        "id": "FgOybkTI8YvM",
        "outputId": "60c9a6d5-3d05-41d7-9251-88c73bc653bf"
      },
      "execution_count": 83,
      "outputs": [
        {
          "output_type": "execute_result",
          "data": {
            "text/plain": [
              "tensor(57600.)"
            ]
          },
          "metadata": {},
          "execution_count": 83
        }
      ]
    },
    {
      "cell_type": "code",
      "source": [
        "# standard deviation\n",
        "torch.std(e)"
      ],
      "metadata": {
        "colab": {
          "base_uri": "https://localhost:8080/"
        },
        "id": "FwJPNc-R8feF",
        "outputId": "3c801a8e-0a0d-4e40-c0d1-d339a94bf724"
      },
      "execution_count": 84,
      "outputs": [
        {
          "output_type": "execute_result",
          "data": {
            "text/plain": [
              "tensor(5.0100)"
            ]
          },
          "metadata": {},
          "execution_count": 84
        }
      ]
    },
    {
      "cell_type": "code",
      "source": [
        "# variance\n",
        "torch.var(e)"
      ],
      "metadata": {
        "colab": {
          "base_uri": "https://localhost:8080/"
        },
        "id": "-Mj-OBy98jQm",
        "outputId": "b5ad7aaa-226e-442f-be07-2c7c8172677d"
      },
      "execution_count": 85,
      "outputs": [
        {
          "output_type": "execute_result",
          "data": {
            "text/plain": [
              "tensor(25.1000)"
            ]
          },
          "metadata": {},
          "execution_count": 85
        }
      ]
    },
    {
      "cell_type": "code",
      "source": [
        "# argmax\n",
        "torch.argmax(e)"
      ],
      "metadata": {
        "colab": {
          "base_uri": "https://localhost:8080/"
        },
        "id": "iRJxikyj8xPx",
        "outputId": "7807b505-ff82-497a-ad84-7929bec84c3a"
      },
      "execution_count": 86,
      "outputs": [
        {
          "output_type": "execute_result",
          "data": {
            "text/plain": [
              "tensor(5)"
            ]
          },
          "metadata": {},
          "execution_count": 86
        }
      ]
    },
    {
      "cell_type": "code",
      "source": [
        "# argmin\n",
        "torch.argmin(e)"
      ],
      "metadata": {
        "colab": {
          "base_uri": "https://localhost:8080/"
        },
        "id": "PZSGJo7n80vm",
        "outputId": "1445ce73-35e3-4af7-838f-daf4098bfb77"
      },
      "execution_count": 87,
      "outputs": [
        {
          "output_type": "execute_result",
          "data": {
            "text/plain": [
              "tensor(1)"
            ]
          },
          "metadata": {},
          "execution_count": 87
        }
      ]
    },
    {
      "cell_type": "markdown",
      "source": [
        "## Matrix Operation\n",
        "\n"
      ],
      "metadata": {
        "id": "lNavkNuO9P3_"
      }
    },
    {
      "cell_type": "code",
      "source": [
        "f = torch.randint(size =(2,3), low=0, high=20)\n",
        "g = torch.randint(size =(3,2), low=0, high=20)\n",
        "\n",
        "print(f)\n",
        "print(g)"
      ],
      "metadata": {
        "colab": {
          "base_uri": "https://localhost:8080/"
        },
        "id": "uaINy6Dj87az",
        "outputId": "456696af-6eb7-49e0-e942-fd7ea2938ed9"
      },
      "execution_count": 89,
      "outputs": [
        {
          "output_type": "stream",
          "name": "stdout",
          "text": [
            "tensor([[14,  0,  8],\n",
            "        [14, 17,  2]])\n",
            "tensor([[13,  8],\n",
            "        [ 5,  6],\n",
            "        [ 2,  9]])\n"
          ]
        }
      ]
    },
    {
      "cell_type": "code",
      "source": [
        "# matrix multiplication\n",
        "torch.matmul(f,g)"
      ],
      "metadata": {
        "colab": {
          "base_uri": "https://localhost:8080/"
        },
        "id": "_CY0MwvW9Yoq",
        "outputId": "fac1d2a4-14d6-4bb0-ce09-f7ea9b27ef8c"
      },
      "execution_count": 90,
      "outputs": [
        {
          "output_type": "execute_result",
          "data": {
            "text/plain": [
              "tensor([[198, 184],\n",
              "        [271, 232]])"
            ]
          },
          "metadata": {},
          "execution_count": 90
        }
      ]
    },
    {
      "cell_type": "code",
      "source": [
        "# dot product\n",
        "\n",
        "vec1 = torch.tensor([1,2])\n",
        "vec2 = torch.tensor([3,4])\n",
        "\n",
        "torch.dot(vec1, vec2)\n",
        "\n"
      ],
      "metadata": {
        "colab": {
          "base_uri": "https://localhost:8080/"
        },
        "id": "KCPeSgKg9jJs",
        "outputId": "01f18a31-339c-4f05-b516-0360e28f229a"
      },
      "execution_count": 93,
      "outputs": [
        {
          "output_type": "execute_result",
          "data": {
            "text/plain": [
              "tensor(11)"
            ]
          },
          "metadata": {},
          "execution_count": 93
        }
      ]
    },
    {
      "cell_type": "code",
      "source": [
        "f"
      ],
      "metadata": {
        "colab": {
          "base_uri": "https://localhost:8080/"
        },
        "id": "Au0UNo69_m6l",
        "outputId": "7a15dd50-f15e-4ed2-a395-560fee6fbafb"
      },
      "execution_count": 96,
      "outputs": [
        {
          "output_type": "execute_result",
          "data": {
            "text/plain": [
              "tensor([[14,  0,  8],\n",
              "        [14, 17,  2]])"
            ]
          },
          "metadata": {},
          "execution_count": 96
        }
      ]
    },
    {
      "cell_type": "code",
      "source": [
        "# transpose\n",
        "torch.transpose(f,0,1)"
      ],
      "metadata": {
        "colab": {
          "base_uri": "https://localhost:8080/"
        },
        "id": "6vekjibW_aQk",
        "outputId": "f3643d1b-71bd-4476-9394-130dc7f5c1e9"
      },
      "execution_count": 97,
      "outputs": [
        {
          "output_type": "execute_result",
          "data": {
            "text/plain": [
              "tensor([[14, 14],\n",
              "        [ 0, 17],\n",
              "        [ 8,  2]])"
            ]
          },
          "metadata": {},
          "execution_count": 97
        }
      ]
    },
    {
      "cell_type": "code",
      "source": [
        "h = torch.randint(size = (3,3), low=0, high=10, dtype=torch.float32)\n",
        "h"
      ],
      "metadata": {
        "colab": {
          "base_uri": "https://localhost:8080/"
        },
        "id": "JKbzDj_4_zsv",
        "outputId": "11a0c8f4-a55b-413b-ae0e-ff9ee0724584"
      },
      "execution_count": 102,
      "outputs": [
        {
          "output_type": "execute_result",
          "data": {
            "text/plain": [
              "tensor([[1., 4., 5.],\n",
              "        [6., 9., 2.],\n",
              "        [3., 1., 0.]])"
            ]
          },
          "metadata": {},
          "execution_count": 102
        }
      ]
    },
    {
      "cell_type": "code",
      "source": [
        "# determinant\n",
        "torch.det(h)"
      ],
      "metadata": {
        "colab": {
          "base_uri": "https://localhost:8080/"
        },
        "id": "7vHmDHom-tS0",
        "outputId": "28198e8f-b006-40ec-b89c-631a02a4af95"
      },
      "execution_count": 103,
      "outputs": [
        {
          "output_type": "execute_result",
          "data": {
            "text/plain": [
              "tensor(-83.)"
            ]
          },
          "metadata": {},
          "execution_count": 103
        }
      ]
    },
    {
      "cell_type": "code",
      "source": [
        "# inverse\n",
        "torch.inverse(h)"
      ],
      "metadata": {
        "colab": {
          "base_uri": "https://localhost:8080/"
        },
        "id": "9lW2MSc1AUDW",
        "outputId": "9e868239-10eb-410c-b901-07c920b0c90a"
      },
      "execution_count": 104,
      "outputs": [
        {
          "output_type": "execute_result",
          "data": {
            "text/plain": [
              "tensor([[ 0.0241, -0.0602,  0.4458],\n",
              "        [-0.0723,  0.1807, -0.3373],\n",
              "        [ 0.2530, -0.1325,  0.1807]])"
            ]
          },
          "metadata": {},
          "execution_count": 104
        }
      ]
    },
    {
      "cell_type": "markdown",
      "source": [
        "## Comparision Operation"
      ],
      "metadata": {
        "id": "HsMZoDs3BNFE"
      }
    },
    {
      "cell_type": "code",
      "source": [
        "i = torch.randint(size=(2,3), low=0, high=10)\n",
        "j = torch.randint(size=(2,3), low=0, high=10)\n",
        "\n",
        "print(i)\n",
        "print(j)"
      ],
      "metadata": {
        "colab": {
          "base_uri": "https://localhost:8080/"
        },
        "id": "G02HddwpAoS5",
        "outputId": "bf672f4c-f16f-4dfd-d9f3-fd53c9287e51"
      },
      "execution_count": 105,
      "outputs": [
        {
          "output_type": "stream",
          "name": "stdout",
          "text": [
            "tensor([[2, 1, 2],\n",
            "        [7, 9, 2]])\n",
            "tensor([[4, 6, 6],\n",
            "        [8, 4, 9]])\n"
          ]
        }
      ]
    },
    {
      "cell_type": "code",
      "source": [
        "# greater than\n",
        "i > j\n",
        "\n",
        "# less than\n",
        "i < j\n",
        "\n",
        "# equal to\n",
        "i == j\n",
        "\n",
        "# not equal to\n",
        "i != j\n",
        "\n",
        "# greater than equal to\n",
        "\n",
        "# less than equal to"
      ],
      "metadata": {
        "colab": {
          "base_uri": "https://localhost:8080/"
        },
        "id": "dhMQ9Z0WBWQN",
        "outputId": "5b53d159-6167-4b60-ba05-33c315f10be1"
      },
      "execution_count": 111,
      "outputs": [
        {
          "output_type": "execute_result",
          "data": {
            "text/plain": [
              "tensor([[True, True, True],\n",
              "        [True, True, True]])"
            ]
          },
          "metadata": {},
          "execution_count": 111
        }
      ]
    },
    {
      "cell_type": "markdown",
      "source": [
        "## Special Functions"
      ],
      "metadata": {
        "id": "8Nrn0izdB178"
      }
    },
    {
      "cell_type": "code",
      "source": [
        "# start from here..."
      ],
      "metadata": {
        "id": "9-C-3mDKBaU7"
      },
      "execution_count": null,
      "outputs": []
    }
  ]
}