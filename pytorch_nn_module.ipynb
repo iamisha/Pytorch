{
  "nbformat": 4,
  "nbformat_minor": 0,
  "metadata": {
    "colab": {
      "provenance": [],
      "gpuType": "T4",
      "authorship_tag": "ABX9TyPekAMbwt2gt7b+tG/45tUz",
      "include_colab_link": true
    },
    "kernelspec": {
      "name": "python3",
      "display_name": "Python 3"
    },
    "language_info": {
      "name": "python"
    },
    "accelerator": "GPU"
  },
  "cells": [
    {
      "cell_type": "markdown",
      "metadata": {
        "id": "view-in-github",
        "colab_type": "text"
      },
      "source": [
        "<a href=\"https://colab.research.google.com/github/iamisha/Pytorch/blob/day11/pytorch_nn_module.ipynb\" target=\"_parent\"><img src=\"https://colab.research.google.com/assets/colab-badge.svg\" alt=\"Open In Colab\"/></a>"
      ]
    },
    {
      "cell_type": "code",
      "execution_count": 21,
      "metadata": {
        "id": "gJ132qzcOX-O"
      },
      "outputs": [],
      "source": [
        "# create a model\n",
        "\n",
        "import torch\n",
        "import torch.nn as nn\n",
        "\n",
        "class Model(nn.Module):\n",
        "  def __init__(self, num_features):\n",
        "    super().__init__()\n",
        "\n",
        "    # for single neuron without hidden layer\n",
        "    # self.linear = nn.Linear(num_featrues, 1)\n",
        "    # self.sigmoid = nn.Sigmoid()\n",
        "\n",
        "    # with hidden layer\n",
        "    self.network = nn.Sequential(\n",
        "            nn.Linear(num_features,3),\n",
        "            nn.ReLU(),\n",
        "            nn.Linear(3, 1),\n",
        "            nn.Sigmoid()\n",
        "    )\n",
        "\n",
        "  def forward(self, features):\n",
        "\n",
        "    # for single neuron without hidden layer\n",
        "    # out = self.linear(features)\n",
        "    # out = self.sigmoid(out)\n",
        "\n",
        "    # with hidden layer\n",
        "    out = self.network(features)\n",
        "\n",
        "    return out"
      ]
    },
    {
      "cell_type": "code",
      "source": [
        "# create dataset\n",
        "features = torch.rand(10,6)\n",
        "\n",
        "# create model object\n",
        "model = Model(features.shape[1])\n",
        "\n",
        "# call model for forward pass\n",
        "model(features)"
      ],
      "metadata": {
        "colab": {
          "base_uri": "https://localhost:8080/"
        },
        "id": "wqheZcgyRC1K",
        "outputId": "2eb77715-1497-4037-e7ab-d273da3d8ca2"
      },
      "execution_count": 22,
      "outputs": [
        {
          "output_type": "execute_result",
          "data": {
            "text/plain": [
              "tensor([[0.4952],\n",
              "        [0.5242],\n",
              "        [0.4974],\n",
              "        [0.5259],\n",
              "        [0.5027],\n",
              "        [0.4989],\n",
              "        [0.4714],\n",
              "        [0.5194],\n",
              "        [0.4822],\n",
              "        [0.4717]], grad_fn=<SigmoidBackward0>)"
            ]
          },
          "metadata": {},
          "execution_count": 22
        }
      ]
    },
    {
      "cell_type": "code",
      "source": [
        "# show model weights\n",
        "model.linear1.weight"
      ],
      "metadata": {
        "colab": {
          "base_uri": "https://localhost:8080/"
        },
        "id": "wP62yzZRR2Rs",
        "outputId": "97d646ea-2950-4126-db91-e5cce84fbaa1"
      },
      "execution_count": 16,
      "outputs": [
        {
          "output_type": "execute_result",
          "data": {
            "text/plain": [
              "Parameter containing:\n",
              "tensor([[-0.0378,  0.0269,  0.2684,  0.2817,  0.0256, -0.1687],\n",
              "        [ 0.1654, -0.2858,  0.1818,  0.3864, -0.1215,  0.3882],\n",
              "        [ 0.3066, -0.1077, -0.0591,  0.1045, -0.3437, -0.2998]],\n",
              "       requires_grad=True)"
            ]
          },
          "metadata": {},
          "execution_count": 16
        }
      ]
    },
    {
      "cell_type": "code",
      "source": [
        "# show model bias\n",
        "model.linear1.bias"
      ],
      "metadata": {
        "colab": {
          "base_uri": "https://localhost:8080/"
        },
        "id": "OCJGRLHnUdQE",
        "outputId": "9c12afdc-e775-4c38-ec03-a6bf89c58c2c"
      },
      "execution_count": 17,
      "outputs": [
        {
          "output_type": "execute_result",
          "data": {
            "text/plain": [
              "Parameter containing:\n",
              "tensor([ 0.2796,  0.2539, -0.0115], requires_grad=True)"
            ]
          },
          "metadata": {},
          "execution_count": 17
        }
      ]
    },
    {
      "cell_type": "code",
      "source": [
        "!pip install torchinfo"
      ],
      "metadata": {
        "colab": {
          "base_uri": "https://localhost:8080/"
        },
        "id": "zajgWsZ2Vn03",
        "outputId": "be0810c9-aec9-4717-9874-6382f2b0386b"
      },
      "execution_count": 18,
      "outputs": [
        {
          "output_type": "stream",
          "name": "stdout",
          "text": [
            "Requirement already satisfied: torchinfo in /usr/local/lib/python3.11/dist-packages (1.8.0)\n"
          ]
        }
      ]
    },
    {
      "cell_type": "code",
      "source": [
        "from torchinfo import summary\n",
        "\n",
        "summary(model, input_size=(10,6))"
      ],
      "metadata": {
        "colab": {
          "base_uri": "https://localhost:8080/"
        },
        "id": "Z1aaWN8eV5yt",
        "outputId": "525165bf-fa4f-4aa2-e79b-1ceeea403a9c"
      },
      "execution_count": 19,
      "outputs": [
        {
          "output_type": "execute_result",
          "data": {
            "text/plain": [
              "==========================================================================================\n",
              "Layer (type:depth-idx)                   Output Shape              Param #\n",
              "==========================================================================================\n",
              "Model                                    [10, 1]                   --\n",
              "├─Linear: 1-1                            [10, 3]                   21\n",
              "├─ReLU: 1-2                              [10, 3]                   --\n",
              "├─Linear: 1-3                            [10, 1]                   4\n",
              "├─Sigmoid: 1-4                           [10, 1]                   --\n",
              "==========================================================================================\n",
              "Total params: 25\n",
              "Trainable params: 25\n",
              "Non-trainable params: 0\n",
              "Total mult-adds (Units.MEGABYTES): 0.00\n",
              "==========================================================================================\n",
              "Input size (MB): 0.00\n",
              "Forward/backward pass size (MB): 0.00\n",
              "Params size (MB): 0.00\n",
              "Estimated Total Size (MB): 0.00\n",
              "=========================================================================================="
            ]
          },
          "metadata": {},
          "execution_count": 19
        }
      ]
    },
    {
      "cell_type": "code",
      "source": [],
      "metadata": {
        "id": "vbtI2htuWbh7"
      },
      "execution_count": null,
      "outputs": []
    }
  ]
}