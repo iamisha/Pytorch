{
 "cells": [
  {
   "cell_type": "markdown",
   "metadata": {
    "id": "tcIEkTJ0UfqU"
   },
   "source": [
    "# Whay is Autograd?\n",
    "\n",
    "Autograd is a core component of pytorch that provides automtic differentiation for tensor operations. It enables gradient computation, which is essential for training machine learning models using optimization algorithms like gradient descent."
   ]
  },
  {
   "cell_type": "code",
   "execution_count": null,
   "metadata": {
    "id": "lR480_w-Admj"
   },
   "outputs": [],
   "source": [
    "def dy_dx(x):\n",
    "  return 2 * x"
   ]
  },
  {
   "cell_type": "code",
   "execution_count": null,
   "metadata": {
    "colab": {
     "base_uri": "https://localhost:8080/"
    },
    "id": "DYDSIiTxAqLY",
    "outputId": "f2e71880-1c86-4230-aa25-c3e4e169e571"
   },
   "outputs": [],
   "source": [
    "dy_dx(2)"
   ]
  },
  {
   "cell_type": "code",
   "execution_count": null,
   "metadata": {
    "id": "RLm014wnAwqS"
   },
   "outputs": [],
   "source": [
    "import math\n",
    "\n",
    "def dz_dx(x):\n",
    "  return 2 * x * math.cos(x ** 2)"
   ]
  },
  {
   "cell_type": "code",
   "execution_count": null,
   "metadata": {
    "colab": {
     "base_uri": "https://localhost:8080/"
    },
    "id": "ty_vyAoGA_wC",
    "outputId": "6bab1a1a-d579-40ec-9232-13889d2f77e8"
   },
   "outputs": [],
   "source": [
    "dz_dx(3)"
   ]
  },
  {
   "cell_type": "code",
   "execution_count": null,
   "metadata": {
    "id": "dPGoitZNBBs1"
   },
   "outputs": [],
   "source": [
    "import torch"
   ]
  },
  {
   "cell_type": "code",
   "execution_count": null,
   "metadata": {
    "id": "ziT46RkTYWjk"
   },
   "outputs": [],
   "source": [
    "x = torch.tensor(3.0, requires_grad=True)"
   ]
  },
  {
   "cell_type": "code",
   "execution_count": null,
   "metadata": {
    "id": "p_TmJxIwYZL7"
   },
   "outputs": [],
   "source": [
    "y =  x**2"
   ]
  },
  {
   "cell_type": "code",
   "execution_count": null,
   "metadata": {
    "colab": {
     "base_uri": "https://localhost:8080/"
    },
    "id": "8B6ZzPw4ZI4_",
    "outputId": "f4e6316f-0209-41f0-e5ae-eaa5e3436785"
   },
   "outputs": [],
   "source": [
    "x"
   ]
  },
  {
   "cell_type": "code",
   "execution_count": null,
   "metadata": {
    "colab": {
     "base_uri": "https://localhost:8080/"
    },
    "id": "_IopSILzZJNb",
    "outputId": "93baf8a4-b87a-43cc-b012-f2854a63539a"
   },
   "outputs": [],
   "source": [
    "y"
   ]
  },
  {
   "cell_type": "code",
   "execution_count": null,
   "metadata": {
    "colab": {
     "base_uri": "https://localhost:8080/"
    },
    "id": "dOazAouQZJms",
    "outputId": "bb2d81e9-0a46-4604-9fd1-a46c22cf39b5"
   },
   "outputs": [],
   "source": [
    "# calculate the derivative\n",
    "y.backward()\n",
    "x.grad"
   ]
  },
  {
   "cell_type": "code",
   "execution_count": null,
   "metadata": {
    "id": "ZmHPrt5naxap"
   },
   "outputs": [],
   "source": [
    "x = torch.tensor(3.0, requires_grad=True)"
   ]
  },
  {
   "cell_type": "code",
   "execution_count": null,
   "metadata": {
    "id": "8sngEzRRG-Jw"
   },
   "outputs": [],
   "source": [
    "y = x ** 2"
   ]
  },
  {
   "cell_type": "code",
   "execution_count": null,
   "metadata": {
    "id": "UL4TlHN9HGFh"
   },
   "outputs": [],
   "source": [
    "z = torch.sin(y)"
   ]
  },
  {
   "cell_type": "code",
   "execution_count": null,
   "metadata": {
    "colab": {
     "base_uri": "https://localhost:8080/"
    },
    "id": "r9ybsBDEHH2U",
    "outputId": "58ef1bac-d882-4d44-cf66-cfe562df1bec"
   },
   "outputs": [],
   "source": [
    "x"
   ]
  },
  {
   "cell_type": "code",
   "execution_count": null,
   "metadata": {
    "colab": {
     "base_uri": "https://localhost:8080/"
    },
    "id": "5l58dmc5HIk5",
    "outputId": "2533e770-03dd-4c5f-9cbb-c9a0382d4e8f"
   },
   "outputs": [],
   "source": [
    "y"
   ]
  },
  {
   "cell_type": "code",
   "execution_count": null,
   "metadata": {
    "colab": {
     "base_uri": "https://localhost:8080/"
    },
    "id": "CyxvzJobHJci",
    "outputId": "084e473f-cd54-406e-b4fa-3dc6b66e6263"
   },
   "outputs": [],
   "source": [
    "z"
   ]
  },
  {
   "cell_type": "code",
   "execution_count": null,
   "metadata": {
    "id": "UZ9u49DVHJ-D"
   },
   "outputs": [],
   "source": [
    "z.backward()"
   ]
  },
  {
   "cell_type": "code",
   "execution_count": null,
   "metadata": {
    "colab": {
     "base_uri": "https://localhost:8080/"
    },
    "id": "xujTRvhPHxuk",
    "outputId": "f270aecf-94f9-417a-ab58-32999e256d72"
   },
   "outputs": [],
   "source": [
    "x.grad"
   ]
  },
  {
   "cell_type": "code",
   "execution_count": null,
   "metadata": {
    "id": "XDB4xadSHzHI"
   },
   "outputs": [],
   "source": [
    "import torch\n",
    "\n",
    "# Inputs\n",
    "x = torch.tensor(6.7)  # Input feature\n",
    "y = torch.tensor(0.0)  # True label (binary)\n",
    "\n",
    "w = torch.tensor(1.0)  # Weight\n",
    "b = torch.tensor(0.0)  # Bias"
   ]
  },
  {
   "cell_type": "code",
   "execution_count": null,
   "metadata": {
    "id": "_fnbmwb8gALj"
   },
   "outputs": [],
   "source": [
    "# Binary Cross-Entropy Loss for scalar\n",
    "def binary_cross_entropy_loss(prediction, target):\n",
    "    epsilon = 1e-8  # To prevent log(0)\n",
    "    prediction = torch.clamp(prediction, epsilon, 1 - epsilon)\n",
    "    return -(target * torch.log(prediction) + (1 - target) * torch.log(1 - prediction))"
   ]
  },
  {
   "cell_type": "code",
   "execution_count": null,
   "metadata": {
    "id": "c4wFviA8g__T"
   },
   "outputs": [],
   "source": [
    "# forward pass\n",
    "z = w*x + b\n",
    "y_pred = torch.sigmoid(z)\n",
    "\n",
    "# compute binary cross entropy loss\n",
    "loss = binary_cross_entropy_loss(y_pred, y)"
   ]
  },
  {
   "cell_type": "code",
   "execution_count": null,
   "metadata": {
    "colab": {
     "base_uri": "https://localhost:8080/"
    },
    "id": "xSPsgVn5h0fp",
    "outputId": "7cdc0fe0-0bdb-4bf1-e31d-b610b0e0bde9"
   },
   "outputs": [],
   "source": [
    "loss"
   ]
  },
  {
   "cell_type": "code",
   "execution_count": null,
   "metadata": {
    "id": "P0--_dfkh5YM"
   },
   "outputs": [],
   "source": [
    "# Derivatives:\n",
    "# 1. dL/d(y_pred): Loss with respect to the prediction (y_pred)\n",
    "dloss_dy_pred = (y_pred - y)/(y_pred*(1-y_pred))\n",
    "\n",
    "# 2. dy_pred/dz: Prediction (y_pred) with respect to z (sigmoid derivative)\n",
    "dy_pred_dz = y_pred * (1 - y_pred)\n",
    "\n",
    "# 3. dz/dw and dz/db: z with respect to w and b\n",
    "dz_dw = x  # dz/dw = x\n",
    "dz_db = 1  # dz/db = 1 (bias contributes directly to z)\n",
    "\n",
    "dL_dw = dloss_dy_pred * dy_pred_dz * dz_dw\n",
    "dL_db = dloss_dy_pred * dy_pred_dz * dz_db"
   ]
  },
  {
   "cell_type": "code",
   "execution_count": null,
   "metadata": {
    "colab": {
     "base_uri": "https://localhost:8080/"
    },
    "id": "aTzEgkeriMVt",
    "outputId": "47266bd7-605b-48ca-85b7-6b50513c1ebe"
   },
   "outputs": [],
   "source": [
    "print(f\"Manual Gradient of loss w.r.t weight (dw): {dL_dw}\")\n",
    "print(f\"Manual Gradient of loss w.r.t bias (db): {dL_db}\")"
   ]
  },
  {
   "cell_type": "code",
   "execution_count": null,
   "metadata": {
    "id": "55dSvQy0jW5E"
   },
   "outputs": [],
   "source": [
    "import torch"
   ]
  },
  {
   "cell_type": "code",
   "execution_count": null,
   "metadata": {
    "id": "flOiy3hCZUlx"
   },
   "outputs": [],
   "source": [
    "x = torch.tensor(6.7)\n",
    "y = torch.tensor(0.0)"
   ]
  },
  {
   "cell_type": "code",
   "execution_count": null,
   "metadata": {
    "id": "rkHOjawKZZnA"
   },
   "outputs": [],
   "source": [
    "w = torch.tensor(1.0, requires_grad=True)\n",
    "b = torch.tensor(0.0, requires_grad=True)"
   ]
  },
  {
   "cell_type": "code",
   "execution_count": null,
   "metadata": {
    "colab": {
     "base_uri": "https://localhost:8080/"
    },
    "id": "cGMZeKsbZiaM",
    "outputId": "018c260b-eb26-4cdb-a157-14dd09461a7e"
   },
   "outputs": [],
   "source": [
    "z = w*x + b\n",
    "z"
   ]
  },
  {
   "cell_type": "code",
   "execution_count": null,
   "metadata": {
    "colab": {
     "base_uri": "https://localhost:8080/"
    },
    "id": "LB47aSH0ZnCa",
    "outputId": "958240f1-8b79-4533-d5df-7101a21906ad"
   },
   "outputs": [],
   "source": [
    "y_pred = torch.sigmoid(z)\n",
    "y_pred"
   ]
  },
  {
   "cell_type": "code",
   "execution_count": null,
   "metadata": {
    "colab": {
     "base_uri": "https://localhost:8080/"
    },
    "id": "jL3XmnDYZvVW",
    "outputId": "60c14672-242e-4783-8327-fd39ff63f503"
   },
   "outputs": [],
   "source": [
    "loss = binary_cross_entropy_loss(y_pred, y)\n",
    "loss"
   ]
  },
  {
   "cell_type": "code",
   "execution_count": null,
   "metadata": {
    "id": "a7xbOWYtZ4t-"
   },
   "outputs": [],
   "source": [
    "loss.backward()"
   ]
  },
  {
   "cell_type": "code",
   "execution_count": null,
   "metadata": {
    "colab": {
     "base_uri": "https://localhost:8080/"
    },
    "id": "UWKotqfZZ7ip",
    "outputId": "5dc5580a-3582-4496-a4f5-729b0e45f49a"
   },
   "outputs": [],
   "source": [
    "print(w.grad)\n",
    "print(b.grad)"
   ]
  },
  {
   "cell_type": "markdown",
   "metadata": {
    "id": "nITeNdpgbb6v"
   },
   "source": [
    "#### Working with vector inputs in autograd"
   ]
  },
  {
   "cell_type": "code",
   "execution_count": null,
   "metadata": {
    "colab": {
     "base_uri": "https://localhost:8080/"
    },
    "id": "fgkDMH94Z9VG",
    "outputId": "f53d3c94-f1d7-4a7f-812a-c68e78b2aa99"
   },
   "outputs": [],
   "source": [
    "x = torch.tensor([1.0, 2.0, 3.0], requires_grad=True)\n",
    "x"
   ]
  },
  {
   "cell_type": "code",
   "execution_count": null,
   "metadata": {
    "colab": {
     "base_uri": "https://localhost:8080/"
    },
    "id": "n5lUuHQWbkuL",
    "outputId": "86ca2f53-8b76-4d02-d01a-ef1bd2764269"
   },
   "outputs": [],
   "source": [
    "y = (x ** 2).mean()\n",
    "y"
   ]
  },
  {
   "cell_type": "code",
   "execution_count": null,
   "metadata": {
    "id": "27g9Swkwbr6e"
   },
   "outputs": [],
   "source": [
    "y.backward()"
   ]
  },
  {
   "cell_type": "code",
   "execution_count": null,
   "metadata": {
    "colab": {
     "base_uri": "https://localhost:8080/"
    },
    "id": "55VgScbMbzxz",
    "outputId": "751a133b-3e4f-4913-bcc8-5ade849613ee"
   },
   "outputs": [],
   "source": [
    "x.grad"
   ]
  },
  {
   "cell_type": "code",
   "execution_count": null,
   "metadata": {
    "id": "Cwtzlf7Vb0nh"
   },
   "outputs": [],
   "source": [
    "# clearing grad\n",
    "\n",
    "x = torch.tensor(3.0, requires_grad = True)"
   ]
  },
  {
   "cell_type": "code",
   "execution_count": null,
   "metadata": {
    "id": "KPFHKRnbpLVL"
   },
   "outputs": [],
   "source": [
    "y = x ** 2"
   ]
  },
  {
   "cell_type": "code",
   "execution_count": null,
   "metadata": {
    "id": "JWvNspVEpjUu"
   },
   "outputs": [],
   "source": [
    "y.backward()"
   ]
  },
  {
   "cell_type": "code",
   "execution_count": null,
   "metadata": {
    "colab": {
     "base_uri": "https://localhost:8080/"
    },
    "id": "dew4QspDpk3g",
    "outputId": "e27b219f-e6a8-4f41-e02e-c5c3d97afa7b"
   },
   "outputs": [],
   "source": [
    "x.grad"
   ]
  },
  {
   "cell_type": "code",
   "execution_count": null,
   "metadata": {
    "colab": {
     "base_uri": "https://localhost:8080/"
    },
    "id": "dOHzMPvkpmOl",
    "outputId": "4ef48ef2-eea3-449f-b079-c24fb9dcb369"
   },
   "outputs": [],
   "source": [
    "x.grad.zero_()"
   ]
  },
  {
   "cell_type": "markdown",
   "metadata": {
    "id": "Dwi_ohDoqcmK"
   },
   "source": [
    "### Disabling Gradient Tracking"
   ]
  },
  {
   "cell_type": "code",
   "execution_count": null,
   "metadata": {
    "id": "drNPjzaVpqYf"
   },
   "outputs": [],
   "source": [
    "x = torch.tensor(3.0, requires_grad = True)"
   ]
  },
  {
   "cell_type": "code",
   "execution_count": null,
   "metadata": {
    "id": "fSRZL9j9qgPJ"
   },
   "outputs": [],
   "source": [
    "y = x ** 2"
   ]
  },
  {
   "cell_type": "code",
   "execution_count": null,
   "metadata": {
    "id": "j3YW7FbhqhWW"
   },
   "outputs": [],
   "source": [
    "y.backward()"
   ]
  },
  {
   "cell_type": "code",
   "execution_count": null,
   "metadata": {
    "colab": {
     "base_uri": "https://localhost:8080/"
    },
    "id": "cTob9OjGqjHb",
    "outputId": "934bff42-a82d-46ae-ad80-474d7b2aeff1"
   },
   "outputs": [],
   "source": [
    "x.grad"
   ]
  },
  {
   "cell_type": "code",
   "execution_count": null,
   "metadata": {
    "colab": {
     "base_uri": "https://localhost:8080/"
    },
    "id": "wuY1Nsk3qj85",
    "outputId": "1b189126-6353-4705-87b4-0fe48e61456a"
   },
   "outputs": [],
   "source": [
    "# option 1: requires_grad_(False)\n",
    "x.requires_grad_(False)"
   ]
  },
  {
   "cell_type": "code",
   "execution_count": null,
   "metadata": {
    "colab": {
     "base_uri": "https://localhost:8080/"
    },
    "id": "C-8vLDvbqu6L",
    "outputId": "d9cbd6e0-9932-49b1-c0ce-1f8ccc2fee95"
   },
   "outputs": [],
   "source": [
    "x"
   ]
  },
  {
   "cell_type": "code",
   "execution_count": null,
   "metadata": {
    "colab": {
     "base_uri": "https://localhost:8080/"
    },
    "id": "LYWhr71Jq2xl",
    "outputId": "fb4e713c-3852-469c-8957-f3b9f20c8b68"
   },
   "outputs": [],
   "source": [
    "y = x ** 2\n",
    "y"
   ]
  },
  {
   "cell_type": "code",
   "execution_count": null,
   "metadata": {
    "colab": {
     "base_uri": "https://localhost:8080/",
     "height": 287
    },
    "id": "QbyS24rrq8mz",
    "outputId": "9477fb7c-b33f-437b-faa7-28a1cef2312f"
   },
   "outputs": [],
   "source": [
    "y.backward()"
   ]
  },
  {
   "cell_type": "code",
   "execution_count": null,
   "metadata": {
    "colab": {
     "base_uri": "https://localhost:8080/"
    },
    "id": "9zdfwDpvrIdR",
    "outputId": "62a8fa53-8ba8-4621-c4f5-916ed55da99b"
   },
   "outputs": [],
   "source": [
    "# option 2: detach()\n",
    "x = torch.tensor(3.0, requires_grad=True)\n",
    "x"
   ]
  },
  {
   "cell_type": "code",
   "execution_count": null,
   "metadata": {
    "colab": {
     "base_uri": "https://localhost:8080/"
    },
    "id": "ekKIygsBriJ1",
    "outputId": "ca33c36b-7255-4cbc-ba51-e20a04961805"
   },
   "outputs": [],
   "source": [
    "z = x.detach()\n",
    "z"
   ]
  },
  {
   "cell_type": "code",
   "execution_count": null,
   "metadata": {
    "colab": {
     "base_uri": "https://localhost:8080/"
    },
    "id": "yOEHXd7YrkWO",
    "outputId": "aefa8176-0f9d-4ce1-cc22-87124aa30bad"
   },
   "outputs": [],
   "source": [
    "y = x ** 2\n",
    "y"
   ]
  },
  {
   "cell_type": "code",
   "execution_count": null,
   "metadata": {
    "id": "rLv5-8nTrmSa"
   },
   "outputs": [],
   "source": [
    "y.backward()"
   ]
  },
  {
   "cell_type": "code",
   "execution_count": null,
   "metadata": {
    "colab": {
     "base_uri": "https://localhost:8080/",
     "height": 287
    },
    "id": "r9EPrK7rrucN",
    "outputId": "18b9839d-0388-44a2-ed9b-852118f697e9"
   },
   "outputs": [],
   "source": [
    "z.backward()"
   ]
  },
  {
   "cell_type": "code",
   "execution_count": null,
   "metadata": {
    "colab": {
     "base_uri": "https://localhost:8080/"
    },
    "id": "r9NCnTlErwH0",
    "outputId": "e8992dac-1c54-431c-f98b-6fe44fd780b0"
   },
   "outputs": [],
   "source": [
    "# option 3: no_grad()\n",
    "\n",
    "x = torch.tensor(3.0, requires_grad=True)\n",
    "x"
   ]
  },
  {
   "cell_type": "code",
   "execution_count": null,
   "metadata": {
    "id": "ZCA_X9_9sGIq"
   },
   "outputs": [],
   "source": [
    "with torch.no_grad():\n",
    "  y = x ** 2"
   ]
  },
  {
   "cell_type": "code",
   "execution_count": null,
   "metadata": {
    "colab": {
     "base_uri": "https://localhost:8080/"
    },
    "id": "BjomSTnisVAM",
    "outputId": "de579612-9099-467c-e19e-c71e88ef5e73"
   },
   "outputs": [],
   "source": [
    "y"
   ]
  },
  {
   "cell_type": "code",
   "execution_count": null,
   "metadata": {
    "id": "dftvaJoHscAf"
   },
   "outputs": [],
   "source": []
  }
 ],
 "metadata": {
  "accelerator": "GPU",
  "colab": {
   "authorship_tag": "ABX9TyOxG6sn/GqVWXwJCRoGNuuc",
   "gpuType": "T4",
   "include_colab_link": true,
   "provenance": []
  },
  "kernelspec": {
   "display_name": "Python 3",
   "name": "python3"
  },
  "language_info": {
   "name": "python"
  }
 },
 "nbformat": 4,
 "nbformat_minor": 0
}
